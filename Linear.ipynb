{
  "nbformat": 4,
  "nbformat_minor": 0,
  "metadata": {
    "colab": {
      "name": "Linear.ipynb",
      "version": "0.3.2",
      "provenance": [],
      "include_colab_link": true
    },
    "kernelspec": {
      "name": "python3",
      "display_name": "Python 3"
    }
  },
  "cells": [
    {
      "cell_type": "markdown",
      "metadata": {
        "id": "view-in-github",
        "colab_type": "text"
      },
      "source": [
        "<a href=\"https://colab.research.google.com/github/Meghashyamt/python/blob/master/Linear.ipynb\" target=\"_parent\"><img src=\"https://colab.research.google.com/assets/colab-badge.svg\" alt=\"Open In Colab\"/></a>"
      ]
    },
    {
      "cell_type": "code",
      "metadata": {
        "id": "Tb3eozuxorK5",
        "colab_type": "code",
        "colab": {}
      },
      "source": [
        "# LINEAR REGRESSION\n",
        "\n",
        "#import libraries \n",
        "import pandas as pd\n",
        "import numpy as np\n",
        "\n",
        "\n",
        "# import libraries for data visualisation\n",
        "import matplotlib.pyplot as plt\n",
        "import seaborn as sb\n",
        "%matplotlib inline\n",
        "\n",
        "# import machine learning\n",
        "from sklearn.linear_model import LinearRegression\n",
        "\n",
        "# training and testing model\n",
        "from sklearn.model_selection import train_test_split\n",
        "\n",
        "#Model Evaluation\n",
        "from sklearn.metrics import r2_score\n",
        "from sklearn import metrics\n",
        "from scipy import stats\n"
      ],
      "execution_count": 0,
      "outputs": []
    },
    {
      "cell_type": "code",
      "metadata": {
        "id": "WzLxdEstqi69",
        "colab_type": "code",
        "colab": {}
      },
      "source": [
        "# importing data\n",
        "cars = pd.read_csv(\"cars.csv\")"
      ],
      "execution_count": 0,
      "outputs": []
    },
    {
      "cell_type": "code",
      "metadata": {
        "id": "CFOcOi_YrbIr",
        "colab_type": "code",
        "colab": {
          "base_uri": "https://localhost:8080/",
          "height": 34
        },
        "outputId": "b501d11f-dd0b-4e09-9989-da48149d7e3e"
      },
      "source": [
        "print(cars.shape)"
      ],
      "execution_count": 63,
      "outputs": [
        {
          "output_type": "stream",
          "text": [
            "(32, 12)\n"
          ],
          "name": "stdout"
        }
      ]
    },
    {
      "cell_type": "code",
      "metadata": {
        "id": "4vnRj8kLqr41",
        "colab_type": "code",
        "colab": {
          "base_uri": "https://localhost:8080/",
          "height": 204
        },
        "outputId": "ea2bbf59-60d1-4c17-d893-55b363b35769"
      },
      "source": [
        "cars.head()"
      ],
      "execution_count": 64,
      "outputs": [
        {
          "output_type": "execute_result",
          "data": {
            "text/html": [
              "<div>\n",
              "<style scoped>\n",
              "    .dataframe tbody tr th:only-of-type {\n",
              "        vertical-align: middle;\n",
              "    }\n",
              "\n",
              "    .dataframe tbody tr th {\n",
              "        vertical-align: top;\n",
              "    }\n",
              "\n",
              "    .dataframe thead th {\n",
              "        text-align: right;\n",
              "    }\n",
              "</style>\n",
              "<table border=\"1\" class=\"dataframe\">\n",
              "  <thead>\n",
              "    <tr style=\"text-align: right;\">\n",
              "      <th></th>\n",
              "      <th>car_model</th>\n",
              "      <th>mpg</th>\n",
              "      <th>cyl</th>\n",
              "      <th>disp</th>\n",
              "      <th>hp</th>\n",
              "      <th>drat</th>\n",
              "      <th>wt</th>\n",
              "      <th>qsec</th>\n",
              "      <th>vs</th>\n",
              "      <th>am</th>\n",
              "      <th>gear</th>\n",
              "      <th>carb</th>\n",
              "    </tr>\n",
              "  </thead>\n",
              "  <tbody>\n",
              "    <tr>\n",
              "      <th>0</th>\n",
              "      <td>Mazda RX4</td>\n",
              "      <td>21.0</td>\n",
              "      <td>6</td>\n",
              "      <td>160.0</td>\n",
              "      <td>110</td>\n",
              "      <td>3.90</td>\n",
              "      <td>2.620</td>\n",
              "      <td>16.46</td>\n",
              "      <td>0</td>\n",
              "      <td>1</td>\n",
              "      <td>4</td>\n",
              "      <td>4</td>\n",
              "    </tr>\n",
              "    <tr>\n",
              "      <th>1</th>\n",
              "      <td>Mazda RX4 Wag</td>\n",
              "      <td>21.0</td>\n",
              "      <td>6</td>\n",
              "      <td>160.0</td>\n",
              "      <td>110</td>\n",
              "      <td>3.90</td>\n",
              "      <td>2.875</td>\n",
              "      <td>17.02</td>\n",
              "      <td>0</td>\n",
              "      <td>1</td>\n",
              "      <td>4</td>\n",
              "      <td>4</td>\n",
              "    </tr>\n",
              "    <tr>\n",
              "      <th>2</th>\n",
              "      <td>Datsun 710</td>\n",
              "      <td>22.8</td>\n",
              "      <td>4</td>\n",
              "      <td>108.0</td>\n",
              "      <td>93</td>\n",
              "      <td>3.85</td>\n",
              "      <td>2.320</td>\n",
              "      <td>18.61</td>\n",
              "      <td>1</td>\n",
              "      <td>1</td>\n",
              "      <td>4</td>\n",
              "      <td>1</td>\n",
              "    </tr>\n",
              "    <tr>\n",
              "      <th>3</th>\n",
              "      <td>Hornet 4 Drive</td>\n",
              "      <td>21.4</td>\n",
              "      <td>6</td>\n",
              "      <td>258.0</td>\n",
              "      <td>110</td>\n",
              "      <td>3.08</td>\n",
              "      <td>3.215</td>\n",
              "      <td>19.44</td>\n",
              "      <td>1</td>\n",
              "      <td>0</td>\n",
              "      <td>3</td>\n",
              "      <td>1</td>\n",
              "    </tr>\n",
              "    <tr>\n",
              "      <th>4</th>\n",
              "      <td>Hornet Sportabout</td>\n",
              "      <td>18.7</td>\n",
              "      <td>8</td>\n",
              "      <td>360.0</td>\n",
              "      <td>175</td>\n",
              "      <td>3.15</td>\n",
              "      <td>3.440</td>\n",
              "      <td>17.02</td>\n",
              "      <td>0</td>\n",
              "      <td>0</td>\n",
              "      <td>3</td>\n",
              "      <td>2</td>\n",
              "    </tr>\n",
              "  </tbody>\n",
              "</table>\n",
              "</div>"
            ],
            "text/plain": [
              "           car_model   mpg  cyl   disp   hp  drat     wt   qsec  vs  am  gear  \\\n",
              "0          Mazda RX4  21.0    6  160.0  110  3.90  2.620  16.46   0   1     4   \n",
              "1      Mazda RX4 Wag  21.0    6  160.0  110  3.90  2.875  17.02   0   1     4   \n",
              "2         Datsun 710  22.8    4  108.0   93  3.85  2.320  18.61   1   1     4   \n",
              "3     Hornet 4 Drive  21.4    6  258.0  110  3.08  3.215  19.44   1   0     3   \n",
              "4  Hornet Sportabout  18.7    8  360.0  175  3.15  3.440  17.02   0   0     3   \n",
              "\n",
              "   carb  \n",
              "0     4  \n",
              "1     4  \n",
              "2     1  \n",
              "3     1  \n",
              "4     2  "
            ]
          },
          "metadata": {
            "tags": []
          },
          "execution_count": 64
        }
      ]
    },
    {
      "cell_type": "code",
      "metadata": {
        "id": "PeMr7a9ArBvW",
        "colab_type": "code",
        "colab": {
          "base_uri": "https://localhost:8080/",
          "height": 238
        },
        "outputId": "08cef4dd-55f1-4cde-c7db-6b204d12398e"
      },
      "source": [
        "# Exploratory data Analysis\n",
        "# Checking for null values\n",
        "cars.isnull().sum()\n"
      ],
      "execution_count": 65,
      "outputs": [
        {
          "output_type": "execute_result",
          "data": {
            "text/plain": [
              "car_model    0\n",
              "mpg          0\n",
              "cyl          0\n",
              "disp         0\n",
              "hp           0\n",
              "drat         0\n",
              "wt           0\n",
              "qsec         0\n",
              "vs           0\n",
              "am           0\n",
              "gear         0\n",
              "carb         0\n",
              "dtype: int64"
            ]
          },
          "metadata": {
            "tags": []
          },
          "execution_count": 65
        }
      ]
    },
    {
      "cell_type": "code",
      "metadata": {
        "id": "nXw66coArrYS",
        "colab_type": "code",
        "colab": {}
      },
      "source": [
        "# replacing with mean\n",
        "#cars=cars.fillna(cars.mean())"
      ],
      "execution_count": 0,
      "outputs": []
    },
    {
      "cell_type": "code",
      "metadata": {
        "id": "Cy1BINF-r78T",
        "colab_type": "code",
        "colab": {}
      },
      "source": [
        "#cars.isnull.sum()"
      ],
      "execution_count": 0,
      "outputs": []
    },
    {
      "cell_type": "code",
      "metadata": {
        "id": "ANSx2avjr_js",
        "colab_type": "code",
        "colab": {
          "base_uri": "https://localhost:8080/",
          "height": 286
        },
        "outputId": "065e3379-3291-4708-8aba-013b4d39c4e3"
      },
      "source": [
        "sb.heatmap(cars.corr(), linewidth=0.2)"
      ],
      "execution_count": 68,
      "outputs": [
        {
          "output_type": "execute_result",
          "data": {
            "text/plain": [
              "<matplotlib.axes._subplots.AxesSubplot at 0x7fae2f7af748>"
            ]
          },
          "metadata": {
            "tags": []
          },
          "execution_count": 68
        },
        {
          "output_type": "display_data",
          "data": {
            "image/png": "[encoded data removed]",
            "text/plain": [
              "<Figure size 432x288 with 2 Axes>"
            ]
          },
          "metadata": {
            "tags": []
          }
        }
      ]
    },
    {
      "cell_type": "code",
      "metadata": {
        "id": "WRzzYVG6sKcD",
        "colab_type": "code",
        "colab": {
          "base_uri": "https://localhost:8080/",
          "height": 390
        },
        "outputId": "e423f9e8-adb2-4448-bdbd-3fe0fb657f51"
      },
      "source": [
        "cars.corr()"
      ],
      "execution_count": 69,
      "outputs": [
        {
          "output_type": "execute_result",
          "data": {
            "text/html": [
              "<div>\n",
              "<style scoped>\n",
              "    .dataframe tbody tr th:only-of-type {\n",
              "        vertical-align: middle;\n",
              "    }\n",
              "\n",
              "    .dataframe tbody tr th {\n",
              "        vertical-align: top;\n",
              "    }\n",
              "\n",
              "    .dataframe thead th {\n",
              "        text-align: right;\n",
              "    }\n",
              "</style>\n",
              "<table border=\"1\" class=\"dataframe\">\n",
              "  <thead>\n",
              "    <tr style=\"text-align: right;\">\n",
              "      <th></th>\n",
              "      <th>mpg</th>\n",
              "      <th>cyl</th>\n",
              "      <th>disp</th>\n",
              "      <th>hp</th>\n",
              "      <th>drat</th>\n",
              "      <th>wt</th>\n",
              "      <th>qsec</th>\n",
              "      <th>vs</th>\n",
              "      <th>am</th>\n",
              "      <th>gear</th>\n",
              "      <th>carb</th>\n",
              "    </tr>\n",
              "  </thead>\n",
              "  <tbody>\n",
              "    <tr>\n",
              "      <th>mpg</th>\n",
              "      <td>1.000000</td>\n",
              "      <td>-0.852162</td>\n",
              "      <td>-0.847551</td>\n",
              "      <td>-0.776168</td>\n",
              "      <td>0.681172</td>\n",
              "      <td>-0.867659</td>\n",
              "      <td>0.418684</td>\n",
              "      <td>0.664039</td>\n",
              "      <td>0.599832</td>\n",
              "      <td>0.480285</td>\n",
              "      <td>-0.550925</td>\n",
              "    </tr>\n",
              "    <tr>\n",
              "      <th>cyl</th>\n",
              "      <td>-0.852162</td>\n",
              "      <td>1.000000</td>\n",
              "      <td>0.902033</td>\n",
              "      <td>0.832447</td>\n",
              "      <td>-0.699938</td>\n",
              "      <td>0.782496</td>\n",
              "      <td>-0.591242</td>\n",
              "      <td>-0.810812</td>\n",
              "      <td>-0.522607</td>\n",
              "      <td>-0.492687</td>\n",
              "      <td>0.526988</td>\n",
              "    </tr>\n",
              "    <tr>\n",
              "      <th>disp</th>\n",
              "      <td>-0.847551</td>\n",
              "      <td>0.902033</td>\n",
              "      <td>1.000000</td>\n",
              "      <td>0.790949</td>\n",
              "      <td>-0.710214</td>\n",
              "      <td>0.887980</td>\n",
              "      <td>-0.433698</td>\n",
              "      <td>-0.710416</td>\n",
              "      <td>-0.591227</td>\n",
              "      <td>-0.555569</td>\n",
              "      <td>0.394977</td>\n",
              "    </tr>\n",
              "    <tr>\n",
              "      <th>hp</th>\n",
              "      <td>-0.776168</td>\n",
              "      <td>0.832447</td>\n",
              "      <td>0.790949</td>\n",
              "      <td>1.000000</td>\n",
              "      <td>-0.448759</td>\n",
              "      <td>0.658748</td>\n",
              "      <td>-0.708223</td>\n",
              "      <td>-0.723097</td>\n",
              "      <td>-0.243204</td>\n",
              "      <td>-0.125704</td>\n",
              "      <td>0.749812</td>\n",
              "    </tr>\n",
              "    <tr>\n",
              "      <th>drat</th>\n",
              "      <td>0.681172</td>\n",
              "      <td>-0.699938</td>\n",
              "      <td>-0.710214</td>\n",
              "      <td>-0.448759</td>\n",
              "      <td>1.000000</td>\n",
              "      <td>-0.712441</td>\n",
              "      <td>0.091205</td>\n",
              "      <td>0.440278</td>\n",
              "      <td>0.712711</td>\n",
              "      <td>0.699610</td>\n",
              "      <td>-0.090790</td>\n",
              "    </tr>\n",
              "    <tr>\n",
              "      <th>wt</th>\n",
              "      <td>-0.867659</td>\n",
              "      <td>0.782496</td>\n",
              "      <td>0.887980</td>\n",
              "      <td>0.658748</td>\n",
              "      <td>-0.712441</td>\n",
              "      <td>1.000000</td>\n",
              "      <td>-0.174716</td>\n",
              "      <td>-0.554916</td>\n",
              "      <td>-0.692495</td>\n",
              "      <td>-0.583287</td>\n",
              "      <td>0.427606</td>\n",
              "    </tr>\n",
              "    <tr>\n",
              "      <th>qsec</th>\n",
              "      <td>0.418684</td>\n",
              "      <td>-0.591242</td>\n",
              "      <td>-0.433698</td>\n",
              "      <td>-0.708223</td>\n",
              "      <td>0.091205</td>\n",
              "      <td>-0.174716</td>\n",
              "      <td>1.000000</td>\n",
              "      <td>0.744535</td>\n",
              "      <td>-0.229861</td>\n",
              "      <td>-0.212682</td>\n",
              "      <td>-0.656249</td>\n",
              "    </tr>\n",
              "    <tr>\n",
              "      <th>vs</th>\n",
              "      <td>0.664039</td>\n",
              "      <td>-0.810812</td>\n",
              "      <td>-0.710416</td>\n",
              "      <td>-0.723097</td>\n",
              "      <td>0.440278</td>\n",
              "      <td>-0.554916</td>\n",
              "      <td>0.744535</td>\n",
              "      <td>1.000000</td>\n",
              "      <td>0.168345</td>\n",
              "      <td>0.206023</td>\n",
              "      <td>-0.569607</td>\n",
              "    </tr>\n",
              "    <tr>\n",
              "      <th>am</th>\n",
              "      <td>0.599832</td>\n",
              "      <td>-0.522607</td>\n",
              "      <td>-0.591227</td>\n",
              "      <td>-0.243204</td>\n",
              "      <td>0.712711</td>\n",
              "      <td>-0.692495</td>\n",
              "      <td>-0.229861</td>\n",
              "      <td>0.168345</td>\n",
              "      <td>1.000000</td>\n",
              "      <td>0.794059</td>\n",
              "      <td>0.057534</td>\n",
              "    </tr>\n",
              "    <tr>\n",
              "      <th>gear</th>\n",
              "      <td>0.480285</td>\n",
              "      <td>-0.492687</td>\n",
              "      <td>-0.555569</td>\n",
              "      <td>-0.125704</td>\n",
              "      <td>0.699610</td>\n",
              "      <td>-0.583287</td>\n",
              "      <td>-0.212682</td>\n",
              "      <td>0.206023</td>\n",
              "      <td>0.794059</td>\n",
              "      <td>1.000000</td>\n",
              "      <td>0.274073</td>\n",
              "    </tr>\n",
              "    <tr>\n",
              "      <th>carb</th>\n",
              "      <td>-0.550925</td>\n",
              "      <td>0.526988</td>\n",
              "      <td>0.394977</td>\n",
              "      <td>0.749812</td>\n",
              "      <td>-0.090790</td>\n",
              "      <td>0.427606</td>\n",
              "      <td>-0.656249</td>\n",
              "      <td>-0.569607</td>\n",
              "      <td>0.057534</td>\n",
              "      <td>0.274073</td>\n",
              "      <td>1.000000</td>\n",
              "    </tr>\n",
              "  </tbody>\n",
              "</table>\n",
              "</div>"
            ],
            "text/plain": [
              "           mpg       cyl      disp        hp      drat        wt      qsec  \\\n",
              "mpg   1.000000 -0.852162 -0.847551 -0.776168  0.681172 -0.867659  0.418684   \n",
              "cyl  -0.852162  1.000000  0.902033  0.832447 -0.699938  0.782496 -0.591242   \n",
              "disp -0.847551  0.902033  1.000000  0.790949 -0.710214  0.887980 -0.433698   \n",
              "hp   -0.776168  0.832447  0.790949  1.000000 -0.448759  0.658748 -0.708223   \n",
              "drat  0.681172 -0.699938 -0.710214 -0.448759  1.000000 -0.712441  0.091205   \n",
              "wt   -0.867659  0.782496  0.887980  0.658748 -0.712441  1.000000 -0.174716   \n",
              "qsec  0.418684 -0.591242 -0.433698 -0.708223  0.091205 -0.174716  1.000000   \n",
              "vs    0.664039 -0.810812 -0.710416 -0.723097  0.440278 -0.554916  0.744535   \n",
              "am    0.599832 -0.522607 -0.591227 -0.243204  0.712711 -0.692495 -0.229861   \n",
              "gear  0.480285 -0.492687 -0.555569 -0.125704  0.699610 -0.583287 -0.212682   \n",
              "carb -0.550925  0.526988  0.394977  0.749812 -0.090790  0.427606 -0.656249   \n",
              "\n",
              "            vs        am      gear      carb  \n",
              "mpg   0.664039  0.599832  0.480285 -0.550925  \n",
              "cyl  -0.810812 -0.522607 -0.492687  0.526988  \n",
              "disp -0.710416 -0.591227 -0.555569  0.394977  \n",
              "hp   -0.723097 -0.243204 -0.125704  0.749812  \n",
              "drat  0.440278  0.712711  0.699610 -0.090790  \n",
              "wt   -0.554916 -0.692495 -0.583287  0.427606  \n",
              "qsec  0.744535 -0.229861 -0.212682 -0.656249  \n",
              "vs    1.000000  0.168345  0.206023 -0.569607  \n",
              "am    0.168345  1.000000  0.794059  0.057534  \n",
              "gear  0.206023  0.794059  1.000000  0.274073  \n",
              "carb -0.569607  0.057534  0.274073  1.000000  "
            ]
          },
          "metadata": {
            "tags": []
          },
          "execution_count": 69
        }
      ]
    },
    {
      "cell_type": "code",
      "metadata": {
        "id": "OeHPb_xksO30",
        "colab_type": "code",
        "colab": {
          "base_uri": "https://localhost:8080/",
          "height": 368
        },
        "outputId": "e573e5bd-097c-45ae-9672-5886749a8d7e"
      },
      "source": [
        "sb.distplot(cars.hp)\n",
        "print(\"Range of skewness, S<|1.96|\")\n",
        "\n",
        "print(\"skewness of hp:\",stats.skew(cars.hp))\n",
        "print(\"skewness of wt:\",stats.skew(cars.wt))\n",
        "\n",
        "print(\"Kurtosis of hp:\",stats.kurtosis(cars.hp))\n",
        "print(\"Kurtosis of wt:\",stats.kurtosis(cars.wt))\n",
        "# both hp and wt passing normality test "
      ],
      "execution_count": 70,
      "outputs": [
        {
          "output_type": "stream",
          "text": [
            "Range of skewness, S<|1.96|\n",
            "skewness of hp: 0.7614356361333623\n",
            "skewness of wt: 0.44378553550607736\n",
            "Kurtosis of hp: 0.05223272840399584\n",
            "Kurtosis of wt: 0.1724705401587343\n"
          ],
          "name": "stdout"
        },
        {
          "output_type": "display_data",
          "data": {
            "image/png": "[encoded data removed]",
            "text/plain": [
              "<Figure size 432x288 with 1 Axes>"
            ]
          },
          "metadata": {
            "tags": []
          }
        }
      ]
    },
    {
      "cell_type": "code",
      "metadata": {
        "id": "rcdrJHcms9jR",
        "colab_type": "code",
        "colab": {}
      },
      "source": [
        "X= cars.loc[:,('hp','wt','am')]\n",
        "y= cars.mpg"
      ],
      "execution_count": 0,
      "outputs": []
    },
    {
      "cell_type": "code",
      "metadata": {
        "id": "tGXYQWsRtjyr",
        "colab_type": "code",
        "colab": {}
      },
      "source": [
        "#for training and testing we split \n",
        "#by default test size it will take 70,30 percentage\n",
        "X_train,X_test,y_train,y_test= train_test_split(X,y,test_size=0.15, random_state=14)"
      ],
      "execution_count": 0,
      "outputs": []
    },
    {
      "cell_type": "code",
      "metadata": {
        "id": "IwSWB0BNt8cr",
        "colab_type": "code",
        "colab": {
          "base_uri": "https://localhost:8080/",
          "height": 85
        },
        "outputId": "1cbaa06d-aafe-4fff-c341-61acdbe3ce23"
      },
      "source": [
        "print(\"X_train shape\",X_train.shape)\n",
        "print(\"X_test shape\",X_test.shape)\n",
        "print(\"y_train shape\",y_train.shape)\n",
        "print(\"y_test shape\",y_test.shape)"
      ],
      "execution_count": 73,
      "outputs": [
        {
          "output_type": "stream",
          "text": [
            "X_train shape (27, 3)\n",
            "X_test shape (5, 3)\n",
            "y_train shape (27,)\n",
            "y_test shape (5,)\n"
          ],
          "name": "stdout"
        }
      ]
    },
    {
      "cell_type": "code",
      "metadata": {
        "id": "YQiqP4rCt5JC",
        "colab_type": "code",
        "colab": {}
      },
      "source": [
        "# For Linear Regression\n",
        "model_lr=LinearRegression()"
      ],
      "execution_count": 0,
      "outputs": []
    },
    {
      "cell_type": "code",
      "metadata": {
        "id": "xfil4oJAupfM",
        "colab_type": "code",
        "colab": {
          "base_uri": "https://localhost:8080/",
          "height": 51
        },
        "outputId": "c62713d4-6bc9-468d-be7f-36b558887126"
      },
      "source": [
        "model_lr.fit(X_train,y_train)"
      ],
      "execution_count": 75,
      "outputs": [
        {
          "output_type": "execute_result",
          "data": {
            "text/plain": [
              "LinearRegression(copy_X=True, fit_intercept=True, n_jobs=None,\n",
              "         normalize=False)"
            ]
          },
          "metadata": {
            "tags": []
          },
          "execution_count": 75
        }
      ]
    },
    {
      "cell_type": "code",
      "metadata": {
        "id": "eh-pMIXcu-AJ",
        "colab_type": "code",
        "colab": {}
      },
      "source": [
        "#predicting value\n",
        "y_predict= model_lr.predict(X_test)"
      ],
      "execution_count": 0,
      "outputs": []
    },
    {
      "cell_type": "code",
      "metadata": {
        "id": "SoqqJRxHvHst",
        "colab_type": "code",
        "colab": {
          "base_uri": "https://localhost:8080/",
          "height": 34
        },
        "outputId": "8dc9f291-4b55-43df-b072-912332c70e68"
      },
      "source": [
        "#to find accuracy\n",
        "r2_score(y_test,y_predict)"
      ],
      "execution_count": 77,
      "outputs": [
        {
          "output_type": "execute_result",
          "data": {
            "text/plain": [
              "0.5740862487980454"
            ]
          },
          "metadata": {
            "tags": []
          },
          "execution_count": 77
        }
      ]
    },
    {
      "cell_type": "code",
      "metadata": {
        "id": "xkkGluO7vRLC",
        "colab_type": "code",
        "colab": {
          "base_uri": "https://localhost:8080/",
          "height": 119
        },
        "outputId": "6ff51994-8adc-48e6-9955-5701f24ba2fa"
      },
      "source": [
        "y_test"
      ],
      "execution_count": 78,
      "outputs": [
        {
          "output_type": "execute_result",
          "data": {
            "text/plain": [
              "2     22.8\n",
              "29    19.7\n",
              "27    30.4\n",
              "19    33.9\n",
              "3     21.4\n",
              "Name: mpg, dtype: float64"
            ]
          },
          "metadata": {
            "tags": []
          },
          "execution_count": 78
        }
      ]
    },
    {
      "cell_type": "code",
      "metadata": {
        "id": "rA-fyESywPBJ",
        "colab_type": "code",
        "colab": {
          "base_uri": "https://localhost:8080/",
          "height": 34
        },
        "outputId": "91313f26-8903-4f19-b4f0-55a086f9c342"
      },
      "source": [
        "y_predict"
      ],
      "execution_count": 79,
      "outputs": [
        {
          "output_type": "execute_result",
          "data": {
            "text/plain": [
              "array([25.43866238, 21.26924914, 26.54561075, 27.62999392, 20.28878033])"
            ]
          },
          "metadata": {
            "tags": []
          },
          "execution_count": 79
        }
      ]
    },
    {
      "cell_type": "code",
      "metadata": {
        "id": "-vlYWK7_wQjW",
        "colab_type": "code",
        "colab": {}
      },
      "source": [
        "predictions=model_lr.predict(X_test)"
      ],
      "execution_count": 0,
      "outputs": []
    },
    {
      "cell_type": "code",
      "metadata": {
        "id": "gpnSd0Yywl2y",
        "colab_type": "code",
        "colab": {
          "base_uri": "https://localhost:8080/",
          "height": 34
        },
        "outputId": "7cec03b6-3c8d-48fc-d282-a4977354c056"
      },
      "source": [
        "predictions"
      ],
      "execution_count": 81,
      "outputs": [
        {
          "output_type": "execute_result",
          "data": {
            "text/plain": [
              "array([25.43866238, 21.26924914, 26.54561075, 27.62999392, 20.28878033])"
            ]
          },
          "metadata": {
            "tags": []
          },
          "execution_count": 81
        }
      ]
    },
    {
      "cell_type": "code",
      "metadata": {
        "id": "jKsUyUa_woja",
        "colab_type": "code",
        "colab": {
          "base_uri": "https://localhost:8080/",
          "height": 286
        },
        "outputId": "d134dc97-269d-413b-a15e-e6a38082d0e6"
      },
      "source": [
        "plt.scatter(y_test,predictions)"
      ],
      "execution_count": 82,
      "outputs": [
        {
          "output_type": "execute_result",
          "data": {
            "text/plain": [
              "<matplotlib.collections.PathCollection at 0x7fae2f6196a0>"
            ]
          },
          "metadata": {
            "tags": []
          },
          "execution_count": 82
        },
        {
          "output_type": "display_data",
          "data": {
            "image/png": "[encoded data removed]",
            "text/plain": [
              "<Figure size 432x288 with 1 Axes>"
            ]
          },
          "metadata": {
            "tags": []
          }
        }
      ]
    },
    {
      "cell_type": "code",
      "metadata": {
        "id": "x6NOW7Gbxupd",
        "colab_type": "code",
        "colab": {
          "base_uri": "https://localhost:8080/",
          "height": 68
        },
        "outputId": "86f9ba90-9578-4b24-badd-2fad084a1e6b"
      },
      "source": [
        "print(\"MAE\", metrics.mean_absolute_error(y_test, predictions))\n",
        "print(\"MSE\", metrics.mean_squared_error(y_test, predictions))\n",
        "print(\"MMSE\", np.sqrt(metrics.mean_squared_error(y_test, predictions)))"
      ],
      "execution_count": 83,
      "outputs": [
        {
          "output_type": "stream",
          "text": [
            "MAE 3.0887053034675214\n",
            "MSE 12.965836779590385\n",
            "MMSE 3.6008105725781223\n"
          ],
          "name": "stdout"
        }
      ]
    },
    {
      "cell_type": "code",
      "metadata": {
        "id": "39Sx45wCyHsq",
        "colab_type": "code",
        "colab": {
          "base_uri": "https://localhost:8080/",
          "height": 286
        },
        "outputId": "1bbe31c2-4aab-4796-d4ff-9c4e635c90c7"
      },
      "source": [
        "#Data Cleaning\n",
        "cars.hp.plot(kind='box')"
      ],
      "execution_count": 84,
      "outputs": [
        {
          "output_type": "execute_result",
          "data": {
            "text/plain": [
              "<matplotlib.axes._subplots.AxesSubplot at 0x7fae2f63d320>"
            ]
          },
          "metadata": {
            "tags": []
          },
          "execution_count": 84
        },
        {
          "output_type": "display_data",
          "data": {
            "image/png": "[encoded data removed]",
            "text/plain": [
              "<Figure size 432x288 with 1 Axes>"
            ]
          },
          "metadata": {
            "tags": []
          }
        }
      ]
    },
    {
      "cell_type": "code",
      "metadata": {
        "id": "RfX0HUVLyDtI",
        "colab_type": "code",
        "colab": {
          "base_uri": "https://localhost:8080/",
          "height": 80
        },
        "outputId": "305b102a-f75b-4c78-e461-3599dd3c6df6"
      },
      "source": [
        "cars[cars.hp==cars.hp.max()]"
      ],
      "execution_count": 85,
      "outputs": [
        {
          "output_type": "execute_result",
          "data": {
            "text/html": [
              "<div>\n",
              "<style scoped>\n",
              "    .dataframe tbody tr th:only-of-type {\n",
              "        vertical-align: middle;\n",
              "    }\n",
              "\n",
              "    .dataframe tbody tr th {\n",
              "        vertical-align: top;\n",
              "    }\n",
              "\n",
              "    .dataframe thead th {\n",
              "        text-align: right;\n",
              "    }\n",
              "</style>\n",
              "<table border=\"1\" class=\"dataframe\">\n",
              "  <thead>\n",
              "    <tr style=\"text-align: right;\">\n",
              "      <th></th>\n",
              "      <th>car_model</th>\n",
              "      <th>mpg</th>\n",
              "      <th>cyl</th>\n",
              "      <th>disp</th>\n",
              "      <th>hp</th>\n",
              "      <th>drat</th>\n",
              "      <th>wt</th>\n",
              "      <th>qsec</th>\n",
              "      <th>vs</th>\n",
              "      <th>am</th>\n",
              "      <th>gear</th>\n",
              "      <th>carb</th>\n",
              "    </tr>\n",
              "  </thead>\n",
              "  <tbody>\n",
              "    <tr>\n",
              "      <th>30</th>\n",
              "      <td>Maserati Bora</td>\n",
              "      <td>15.0</td>\n",
              "      <td>8</td>\n",
              "      <td>301.0</td>\n",
              "      <td>335</td>\n",
              "      <td>3.54</td>\n",
              "      <td>3.57</td>\n",
              "      <td>14.6</td>\n",
              "      <td>0</td>\n",
              "      <td>1</td>\n",
              "      <td>5</td>\n",
              "      <td>8</td>\n",
              "    </tr>\n",
              "  </tbody>\n",
              "</table>\n",
              "</div>"
            ],
            "text/plain": [
              "        car_model   mpg  cyl   disp   hp  drat    wt  qsec  vs  am  gear  carb\n",
              "30  Maserati Bora  15.0    8  301.0  335  3.54  3.57  14.6   0   1     5     8"
            ]
          },
          "metadata": {
            "tags": []
          },
          "execution_count": 85
        }
      ]
    },
    {
      "cell_type": "code",
      "metadata": {
        "id": "u8EgcfJx0m05",
        "colab_type": "code",
        "colab": {}
      },
      "source": [
        ""
      ],
      "execution_count": 0,
      "outputs": []
    },
    {
      "cell_type": "code",
      "metadata": {
        "id": "I3mwQ8JwwkDm",
        "colab_type": "code",
        "colab": {}
      },
      "source": [
        ""
      ],
      "execution_count": 0,
      "outputs": []
    }
  ]
}