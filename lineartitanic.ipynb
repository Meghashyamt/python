{
  "nbformat": 4,
  "nbformat_minor": 0,
  "metadata": {
    "colab": {
      "name": "lineartitanic.ipynb",
      "version": "0.3.2",
      "provenance": [],
      "include_colab_link": true
    },
    "kernelspec": {
      "name": "python3",
      "display_name": "Python 3"
    }
  },
  "cells": [
    {
      "cell_type": "markdown",
      "metadata": {
        "id": "view-in-github",
        "colab_type": "text"
      },
      "source": [
        "<a href=\"https://colab.research.google.com/github/Meghashyamt/python/blob/master/lineartitanic.ipynb\" target=\"_parent\"><img src=\"https://colab.research.google.com/assets/colab-badge.svg\" alt=\"Open In Colab\"/></a>"
      ]
    },
    {
      "cell_type": "code",
      "metadata": {
        "id": "Y-_4hFhBENhy",
        "colab_type": "code",
        "colab": {}
      },
      "source": [
        "# import librarires \n",
        "import numpy as np\n",
        "import pandas as pd\n",
        "\n",
        "#import data visuvalize\n",
        "import matplotlib.pyplot as plt\n",
        "import seaborn as sb\n",
        "%matplotlib inline\n",
        "\n",
        "\n",
        "\n",
        "#import logical\n",
        "from sklearn.linear_model import LinearRegression\n",
        "\n",
        "#import train test\n",
        "from sklearn.model_selection import train_test_split\n",
        "\n",
        "#import metrics\n",
        "from sklearn.metrics import r2_score, accuracy_score, confusion_matrix, classification_report\n",
        "from sklearn import metrics\n",
        "from scipy import stats"
      ],
      "execution_count": 0,
      "outputs": []
    },
    {
      "cell_type": "code",
      "metadata": {
        "id": "rS2iQmmBFoj9",
        "colab_type": "code",
        "outputId": "d2ee1b88-fba9-4966-afd6-0261f2782fa4",
        "colab": {
          "base_uri": "https://localhost:8080/",
          "height": 272
        }
      },
      "source": [
        "data=pd.read_excel(\"titanic3.xls\")\n",
        "\n",
        "data.head()"
      ],
      "execution_count": 0,
      "outputs": [
        {
          "output_type": "execute_result",
          "data": {
            "text/html": [
              "<div>\n",
              "<style scoped>\n",
              "    .dataframe tbody tr th:only-of-type {\n",
              "        vertical-align: middle;\n",
              "    }\n",
              "\n",
              "    .dataframe tbody tr th {\n",
              "        vertical-align: top;\n",
              "    }\n",
              "\n",
              "    .dataframe thead th {\n",
              "        text-align: right;\n",
              "    }\n",
              "</style>\n",
              "<table border=\"1\" class=\"dataframe\">\n",
              "  <thead>\n",
              "    <tr style=\"text-align: right;\">\n",
              "      <th></th>\n",
              "      <th>pclass</th>\n",
              "      <th>survived</th>\n",
              "      <th>name</th>\n",
              "      <th>sex</th>\n",
              "      <th>age</th>\n",
              "      <th>sibsp</th>\n",
              "      <th>parch</th>\n",
              "      <th>ticket</th>\n",
              "      <th>fare</th>\n",
              "      <th>cabin</th>\n",
              "      <th>embarked</th>\n",
              "      <th>boat</th>\n",
              "      <th>body</th>\n",
              "      <th>home.dest</th>\n",
              "    </tr>\n",
              "  </thead>\n",
              "  <tbody>\n",
              "    <tr>\n",
              "      <th>0</th>\n",
              "      <td>1</td>\n",
              "      <td>1</td>\n",
              "      <td>Allen, Miss. Elisabeth Walton</td>\n",
              "      <td>female</td>\n",
              "      <td>29.0000</td>\n",
              "      <td>0</td>\n",
              "      <td>0</td>\n",
              "      <td>24160</td>\n",
              "      <td>211.3375</td>\n",
              "      <td>B5</td>\n",
              "      <td>S</td>\n",
              "      <td>2</td>\n",
              "      <td>NaN</td>\n",
              "      <td>St Louis, MO</td>\n",
              "    </tr>\n",
              "    <tr>\n",
              "      <th>1</th>\n",
              "      <td>1</td>\n",
              "      <td>1</td>\n",
              "      <td>Allison, Master. Hudson Trevor</td>\n",
              "      <td>male</td>\n",
              "      <td>0.9167</td>\n",
              "      <td>1</td>\n",
              "      <td>2</td>\n",
              "      <td>113781</td>\n",
              "      <td>151.5500</td>\n",
              "      <td>C22 C26</td>\n",
              "      <td>S</td>\n",
              "      <td>11</td>\n",
              "      <td>NaN</td>\n",
              "      <td>Montreal, PQ / Chesterville, ON</td>\n",
              "    </tr>\n",
              "    <tr>\n",
              "      <th>2</th>\n",
              "      <td>1</td>\n",
              "      <td>0</td>\n",
              "      <td>Allison, Miss. Helen Loraine</td>\n",
              "      <td>female</td>\n",
              "      <td>2.0000</td>\n",
              "      <td>1</td>\n",
              "      <td>2</td>\n",
              "      <td>113781</td>\n",
              "      <td>151.5500</td>\n",
              "      <td>C22 C26</td>\n",
              "      <td>S</td>\n",
              "      <td>NaN</td>\n",
              "      <td>NaN</td>\n",
              "      <td>Montreal, PQ / Chesterville, ON</td>\n",
              "    </tr>\n",
              "    <tr>\n",
              "      <th>3</th>\n",
              "      <td>1</td>\n",
              "      <td>0</td>\n",
              "      <td>Allison, Mr. Hudson Joshua Creighton</td>\n",
              "      <td>male</td>\n",
              "      <td>30.0000</td>\n",
              "      <td>1</td>\n",
              "      <td>2</td>\n",
              "      <td>113781</td>\n",
              "      <td>151.5500</td>\n",
              "      <td>C22 C26</td>\n",
              "      <td>S</td>\n",
              "      <td>NaN</td>\n",
              "      <td>135.0</td>\n",
              "      <td>Montreal, PQ / Chesterville, ON</td>\n",
              "    </tr>\n",
              "    <tr>\n",
              "      <th>4</th>\n",
              "      <td>1</td>\n",
              "      <td>0</td>\n",
              "      <td>Allison, Mrs. Hudson J C (Bessie Waldo Daniels)</td>\n",
              "      <td>female</td>\n",
              "      <td>25.0000</td>\n",
              "      <td>1</td>\n",
              "      <td>2</td>\n",
              "      <td>113781</td>\n",
              "      <td>151.5500</td>\n",
              "      <td>C22 C26</td>\n",
              "      <td>S</td>\n",
              "      <td>NaN</td>\n",
              "      <td>NaN</td>\n",
              "      <td>Montreal, PQ / Chesterville, ON</td>\n",
              "    </tr>\n",
              "  </tbody>\n",
              "</table>\n",
              "</div>"
            ],
            "text/plain": [
              "   pclass  survived  ...   body                        home.dest\n",
              "0       1         1  ...    NaN                     St Louis, MO\n",
              "1       1         1  ...    NaN  Montreal, PQ / Chesterville, ON\n",
              "2       1         0  ...    NaN  Montreal, PQ / Chesterville, ON\n",
              "3       1         0  ...  135.0  Montreal, PQ / Chesterville, ON\n",
              "4       1         0  ...    NaN  Montreal, PQ / Chesterville, ON\n",
              "\n",
              "[5 rows x 14 columns]"
            ]
          },
          "metadata": {
            "tags": []
          },
          "execution_count": 2
        }
      ]
    },
    {
      "cell_type": "code",
      "metadata": {
        "id": "DfQa1xa7GOPP",
        "colab_type": "code",
        "outputId": "be2c4d05-e38e-4240-d623-2fc320842b36",
        "colab": {
          "base_uri": "https://localhost:8080/",
          "height": 272
        }
      },
      "source": [
        "data.isnull().sum()"
      ],
      "execution_count": 0,
      "outputs": [
        {
          "output_type": "execute_result",
          "data": {
            "text/plain": [
              "pclass          0\n",
              "survived        0\n",
              "name            0\n",
              "sex             0\n",
              "age           263\n",
              "sibsp           0\n",
              "parch           0\n",
              "ticket          0\n",
              "fare            1\n",
              "cabin        1014\n",
              "embarked        2\n",
              "boat          823\n",
              "body         1188\n",
              "home.dest     564\n",
              "dtype: int64"
            ]
          },
          "metadata": {
            "tags": []
          },
          "execution_count": 3
        }
      ]
    },
    {
      "cell_type": "code",
      "metadata": {
        "id": "5lCbPh8XHkbv",
        "colab_type": "code",
        "colab": {}
      },
      "source": [
        "data=data.fillna(data.mean())"
      ],
      "execution_count": 0,
      "outputs": []
    },
    {
      "cell_type": "code",
      "metadata": {
        "id": "GKjTj0H8HxrA",
        "colab_type": "code",
        "outputId": "ab3d0329-abca-438a-dc93-462a60c4ed7c",
        "colab": {
          "base_uri": "https://localhost:8080/",
          "height": 272
        }
      },
      "source": [
        "data.isnull().sum()"
      ],
      "execution_count": 0,
      "outputs": [
        {
          "output_type": "execute_result",
          "data": {
            "text/plain": [
              "pclass          0\n",
              "survived        0\n",
              "name            0\n",
              "sex             0\n",
              "age             0\n",
              "sibsp           0\n",
              "parch           0\n",
              "ticket          0\n",
              "fare            0\n",
              "cabin        1014\n",
              "embarked        2\n",
              "boat          823\n",
              "body            0\n",
              "home.dest     564\n",
              "dtype: int64"
            ]
          },
          "metadata": {
            "tags": []
          },
          "execution_count": 8
        }
      ]
    },
    {
      "cell_type": "code",
      "metadata": {
        "id": "6WmyyhMtH2LI",
        "colab_type": "code",
        "outputId": "e6e75cc5-0e48-4637-fa65-a1761563cd2e",
        "colab": {
          "base_uri": "https://localhost:8080/",
          "height": 297
        }
      },
      "source": [
        "data.describe()"
      ],
      "execution_count": 0,
      "outputs": [
        {
          "output_type": "execute_result",
          "data": {
            "text/html": [
              "<div>\n",
              "<style scoped>\n",
              "    .dataframe tbody tr th:only-of-type {\n",
              "        vertical-align: middle;\n",
              "    }\n",
              "\n",
              "    .dataframe tbody tr th {\n",
              "        vertical-align: top;\n",
              "    }\n",
              "\n",
              "    .dataframe thead th {\n",
              "        text-align: right;\n",
              "    }\n",
              "</style>\n",
              "<table border=\"1\" class=\"dataframe\">\n",
              "  <thead>\n",
              "    <tr style=\"text-align: right;\">\n",
              "      <th></th>\n",
              "      <th>pclass</th>\n",
              "      <th>survived</th>\n",
              "      <th>age</th>\n",
              "      <th>sibsp</th>\n",
              "      <th>parch</th>\n",
              "      <th>fare</th>\n",
              "      <th>body</th>\n",
              "    </tr>\n",
              "  </thead>\n",
              "  <tbody>\n",
              "    <tr>\n",
              "      <th>count</th>\n",
              "      <td>1309.000000</td>\n",
              "      <td>1309.000000</td>\n",
              "      <td>1309.000000</td>\n",
              "      <td>1309.000000</td>\n",
              "      <td>1309.000000</td>\n",
              "      <td>1309.000000</td>\n",
              "      <td>1309.000000</td>\n",
              "    </tr>\n",
              "    <tr>\n",
              "      <th>mean</th>\n",
              "      <td>2.294882</td>\n",
              "      <td>0.381971</td>\n",
              "      <td>29.881135</td>\n",
              "      <td>0.498854</td>\n",
              "      <td>0.385027</td>\n",
              "      <td>33.295479</td>\n",
              "      <td>160.809917</td>\n",
              "    </tr>\n",
              "    <tr>\n",
              "      <th>std</th>\n",
              "      <td>0.837836</td>\n",
              "      <td>0.486055</td>\n",
              "      <td>12.883199</td>\n",
              "      <td>1.041658</td>\n",
              "      <td>0.865560</td>\n",
              "      <td>51.738879</td>\n",
              "      <td>29.591544</td>\n",
              "    </tr>\n",
              "    <tr>\n",
              "      <th>min</th>\n",
              "      <td>1.000000</td>\n",
              "      <td>0.000000</td>\n",
              "      <td>0.166700</td>\n",
              "      <td>0.000000</td>\n",
              "      <td>0.000000</td>\n",
              "      <td>0.000000</td>\n",
              "      <td>1.000000</td>\n",
              "    </tr>\n",
              "    <tr>\n",
              "      <th>25%</th>\n",
              "      <td>2.000000</td>\n",
              "      <td>0.000000</td>\n",
              "      <td>22.000000</td>\n",
              "      <td>0.000000</td>\n",
              "      <td>0.000000</td>\n",
              "      <td>7.895800</td>\n",
              "      <td>160.809917</td>\n",
              "    </tr>\n",
              "    <tr>\n",
              "      <th>50%</th>\n",
              "      <td>3.000000</td>\n",
              "      <td>0.000000</td>\n",
              "      <td>29.881135</td>\n",
              "      <td>0.000000</td>\n",
              "      <td>0.000000</td>\n",
              "      <td>14.454200</td>\n",
              "      <td>160.809917</td>\n",
              "    </tr>\n",
              "    <tr>\n",
              "      <th>75%</th>\n",
              "      <td>3.000000</td>\n",
              "      <td>1.000000</td>\n",
              "      <td>35.000000</td>\n",
              "      <td>1.000000</td>\n",
              "      <td>0.000000</td>\n",
              "      <td>31.275000</td>\n",
              "      <td>160.809917</td>\n",
              "    </tr>\n",
              "    <tr>\n",
              "      <th>max</th>\n",
              "      <td>3.000000</td>\n",
              "      <td>1.000000</td>\n",
              "      <td>80.000000</td>\n",
              "      <td>8.000000</td>\n",
              "      <td>9.000000</td>\n",
              "      <td>512.329200</td>\n",
              "      <td>328.000000</td>\n",
              "    </tr>\n",
              "  </tbody>\n",
              "</table>\n",
              "</div>"
            ],
            "text/plain": [
              "            pclass     survived  ...         fare         body\n",
              "count  1309.000000  1309.000000  ...  1309.000000  1309.000000\n",
              "mean      2.294882     0.381971  ...    33.295479   160.809917\n",
              "std       0.837836     0.486055  ...    51.738879    29.591544\n",
              "min       1.000000     0.000000  ...     0.000000     1.000000\n",
              "25%       2.000000     0.000000  ...     7.895800   160.809917\n",
              "50%       3.000000     0.000000  ...    14.454200   160.809917\n",
              "75%       3.000000     1.000000  ...    31.275000   160.809917\n",
              "max       3.000000     1.000000  ...   512.329200   328.000000\n",
              "\n",
              "[8 rows x 7 columns]"
            ]
          },
          "metadata": {
            "tags": []
          },
          "execution_count": 9
        }
      ]
    },
    {
      "cell_type": "code",
      "metadata": {
        "id": "9FVyvVEgJIdT",
        "colab_type": "code",
        "outputId": "35f84f8c-3032-4879-a893-2e442c09ca73",
        "colab": {
          "base_uri": "https://localhost:8080/",
          "height": 286
        }
      },
      "source": [
        "sb.heatmap(data.corr(), linewidth=0.2)"
      ],
      "execution_count": 0,
      "outputs": [
        {
          "output_type": "execute_result",
          "data": {
            "text/plain": [
              "<matplotlib.axes._subplots.AxesSubplot at 0x7f0c754e0a58>"
            ]
          },
          "metadata": {
            "tags": []
          },
          "execution_count": 10
        },
        {
          "output_type": "display_data",
          "data": {
            "image/png": "[encoded data removed]",
            "text/plain": [
              "<Figure size 432x288 with 2 Axes>"
            ]
          },
          "metadata": {
            "tags": []
          }
        }
      ]
    },
    {
      "cell_type": "code",
      "metadata": {
        "id": "OLQUF7LqJPkw",
        "colab_type": "code",
        "outputId": "0dc1b736-976a-41ef-f58f-7eb3a6963291",
        "colab": {
          "base_uri": "https://localhost:8080/",
          "height": 368
        }
      },
      "source": [
        "sb.distplot(data.age)\n",
        "print(\"Range of skewness, S<|1.96|\")\n",
        "\n",
        "print(\"skewness of hp:\",stats.skew(data.age))\n",
        "print(\"skewness of wt:\",stats.skew(data.fare))\n",
        "\n",
        "print(\"Kurtosis of hp:\",stats.kurtosis(data.age))\n",
        "print(\"Kurtosis of wt:\",stats.kurtosis(data.fare))"
      ],
      "execution_count": 0,
      "outputs": [
        {
          "output_type": "stream",
          "text": [
            "Range of skewness, S<|1.96|\n",
            "skewness of hp: 0.45539814290326736\n",
            "skewness of wt: 4.364366076590386\n",
            "Kurtosis of hp: 0.9301508643582603\n",
            "Kurtosis of wt: 26.94306999884472\n"
          ],
          "name": "stdout"
        },
        {
          "output_type": "display_data",
          "data": {
            "image/png": "[encoded data removed]",
            "text/plain": [
              "<Figure size 432x288 with 1 Axes>"
            ]
          },
          "metadata": {
            "tags": []
          }
        }
      ]
    },
    {
      "cell_type": "code",
      "metadata": {
        "id": "xvgOxRAoKIc-",
        "colab_type": "code",
        "outputId": "5f39394a-90e2-4a79-f98e-036e702fc3ab",
        "colab": {
          "base_uri": "https://localhost:8080/",
          "height": 266
        }
      },
      "source": [
        "data.corr()"
      ],
      "execution_count": 0,
      "outputs": [
        {
          "output_type": "execute_result",
          "data": {
            "text/html": [
              "<div>\n",
              "<style scoped>\n",
              "    .dataframe tbody tr th:only-of-type {\n",
              "        vertical-align: middle;\n",
              "    }\n",
              "\n",
              "    .dataframe tbody tr th {\n",
              "        vertical-align: top;\n",
              "    }\n",
              "\n",
              "    .dataframe thead th {\n",
              "        text-align: right;\n",
              "    }\n",
              "</style>\n",
              "<table border=\"1\" class=\"dataframe\">\n",
              "  <thead>\n",
              "    <tr style=\"text-align: right;\">\n",
              "      <th></th>\n",
              "      <th>pclass</th>\n",
              "      <th>survived</th>\n",
              "      <th>age</th>\n",
              "      <th>sibsp</th>\n",
              "      <th>parch</th>\n",
              "      <th>fare</th>\n",
              "      <th>body</th>\n",
              "    </tr>\n",
              "  </thead>\n",
              "  <tbody>\n",
              "    <tr>\n",
              "      <th>pclass</th>\n",
              "      <td>1.000000</td>\n",
              "      <td>-3.124694e-01</td>\n",
              "      <td>-0.366370</td>\n",
              "      <td>0.060832</td>\n",
              "      <td>0.018322</td>\n",
              "      <td>-0.558477</td>\n",
              "      <td>-1.064472e-02</td>\n",
              "    </tr>\n",
              "    <tr>\n",
              "      <th>survived</th>\n",
              "      <td>-0.312469</td>\n",
              "      <td>1.000000e+00</td>\n",
              "      <td>-0.050199</td>\n",
              "      <td>-0.027825</td>\n",
              "      <td>0.082660</td>\n",
              "      <td>0.244208</td>\n",
              "      <td>1.912936e-16</td>\n",
              "    </tr>\n",
              "    <tr>\n",
              "      <th>age</th>\n",
              "      <td>-0.366370</td>\n",
              "      <td>-5.019898e-02</td>\n",
              "      <td>1.000000</td>\n",
              "      <td>-0.190747</td>\n",
              "      <td>-0.130872</td>\n",
              "      <td>0.171521</td>\n",
              "      <td>1.964239e-02</td>\n",
              "    </tr>\n",
              "    <tr>\n",
              "      <th>sibsp</th>\n",
              "      <td>0.060832</td>\n",
              "      <td>-2.782512e-02</td>\n",
              "      <td>-0.190747</td>\n",
              "      <td>1.000000</td>\n",
              "      <td>0.373587</td>\n",
              "      <td>0.160224</td>\n",
              "      <td>-2.591925e-02</td>\n",
              "    </tr>\n",
              "    <tr>\n",
              "      <th>parch</th>\n",
              "      <td>0.018322</td>\n",
              "      <td>8.265957e-02</td>\n",
              "      <td>-0.130872</td>\n",
              "      <td>0.373587</td>\n",
              "      <td>1.000000</td>\n",
              "      <td>0.221522</td>\n",
              "      <td>1.517702e-02</td>\n",
              "    </tr>\n",
              "    <tr>\n",
              "      <th>fare</th>\n",
              "      <td>-0.558477</td>\n",
              "      <td>2.442078e-01</td>\n",
              "      <td>0.171521</td>\n",
              "      <td>0.160224</td>\n",
              "      <td>0.221522</td>\n",
              "      <td>1.000000</td>\n",
              "      <td>-1.058336e-02</td>\n",
              "    </tr>\n",
              "    <tr>\n",
              "      <th>body</th>\n",
              "      <td>-0.010645</td>\n",
              "      <td>1.912936e-16</td>\n",
              "      <td>0.019642</td>\n",
              "      <td>-0.025919</td>\n",
              "      <td>0.015177</td>\n",
              "      <td>-0.010583</td>\n",
              "      <td>1.000000e+00</td>\n",
              "    </tr>\n",
              "  </tbody>\n",
              "</table>\n",
              "</div>"
            ],
            "text/plain": [
              "            pclass      survived       age  ...     parch      fare          body\n",
              "pclass    1.000000 -3.124694e-01 -0.366370  ...  0.018322 -0.558477 -1.064472e-02\n",
              "survived -0.312469  1.000000e+00 -0.050199  ...  0.082660  0.244208  1.912936e-16\n",
              "age      -0.366370 -5.019898e-02  1.000000  ... -0.130872  0.171521  1.964239e-02\n",
              "sibsp     0.060832 -2.782512e-02 -0.190747  ...  0.373587  0.160224 -2.591925e-02\n",
              "parch     0.018322  8.265957e-02 -0.130872  ...  1.000000  0.221522  1.517702e-02\n",
              "fare     -0.558477  2.442078e-01  0.171521  ...  0.221522  1.000000 -1.058336e-02\n",
              "body     -0.010645  1.912936e-16  0.019642  ...  0.015177 -0.010583  1.000000e+00\n",
              "\n",
              "[7 rows x 7 columns]"
            ]
          },
          "metadata": {
            "tags": []
          },
          "execution_count": 12
        }
      ]
    },
    {
      "cell_type": "code",
      "metadata": {
        "id": "hBIyRknbKPqN",
        "colab_type": "code",
        "colab": {}
      },
      "source": [
        "X= data.loc[:, ('pclass', 'age', 'parch', 'sibsp')]\n",
        "y=data.survived"
      ],
      "execution_count": 0,
      "outputs": []
    },
    {
      "cell_type": "code",
      "metadata": {
        "id": "7erMJ-qFKbAC",
        "colab_type": "code",
        "colab": {}
      },
      "source": [
        "#for training and testing we split \n",
        "#by default test size it will take 70,30 percentage\n",
        "X_train,X_test,y_train,y_test= train_test_split(X,y,test_size=0.20, random_state=14)"
      ],
      "execution_count": 0,
      "outputs": []
    },
    {
      "cell_type": "code",
      "metadata": {
        "id": "GaVGsh3gKe_V",
        "colab_type": "code",
        "outputId": "8ffb69a4-fc8f-42ad-8df6-72ac1d68f64f",
        "colab": {
          "base_uri": "https://localhost:8080/",
          "height": 85
        }
      },
      "source": [
        "print(\"X_train shape\",X_train.shape)\n",
        "print(\"X_test shape\",X_test.shape)\n",
        "print(\"y_train shape\",y_train.shape)\n",
        "print(\"y_test shape\",y_test.shape)"
      ],
      "execution_count": 0,
      "outputs": [
        {
          "output_type": "stream",
          "text": [
            "X_train shape (1047, 4)\n",
            "X_test shape (262, 4)\n",
            "y_train shape (1047,)\n",
            "y_test shape (262,)\n"
          ],
          "name": "stdout"
        }
      ]
    },
    {
      "cell_type": "code",
      "metadata": {
        "id": "0wT9oLZLKhWz",
        "colab_type": "code",
        "colab": {}
      },
      "source": [
        "# For Linear Regression\n",
        "model_lr=LinearRegression()"
      ],
      "execution_count": 0,
      "outputs": []
    },
    {
      "cell_type": "code",
      "metadata": {
        "id": "G2JGt2hMKp1Z",
        "colab_type": "code",
        "outputId": "080f473d-6c43-457c-c28f-34d52e592a42",
        "colab": {
          "base_uri": "https://localhost:8080/",
          "height": 51
        }
      },
      "source": [
        "model_lr.fit(X_train,y_train)"
      ],
      "execution_count": 0,
      "outputs": [
        {
          "output_type": "execute_result",
          "data": {
            "text/plain": [
              "LinearRegression(copy_X=True, fit_intercept=True, n_jobs=None,\n",
              "         normalize=False)"
            ]
          },
          "metadata": {
            "tags": []
          },
          "execution_count": 45
        }
      ]
    },
    {
      "cell_type": "code",
      "metadata": {
        "id": "GJ0ztJOKKsbL",
        "colab_type": "code",
        "colab": {}
      },
      "source": [
        "y_predict= model_lr.predict(X_test)"
      ],
      "execution_count": 0,
      "outputs": []
    },
    {
      "cell_type": "code",
      "metadata": {
        "id": "qdhv3zlfKvfX",
        "colab_type": "code",
        "outputId": "cef26a11-bb28-401f-b78b-a254f35f947d",
        "colab": {
          "base_uri": "https://localhost:8080/",
          "height": 1071
        }
      },
      "source": [
        "y_test"
      ],
      "execution_count": 0,
      "outputs": [
        {
          "output_type": "execute_result",
          "data": {
            "text/plain": [
              "1105    0\n",
              "724     0\n",
              "214     1\n",
              "295     1\n",
              "397     0\n",
              "282     1\n",
              "168     1\n",
              "1220    0\n",
              "486     0\n",
              "499     0\n",
              "958     0\n",
              "1095    0\n",
              "461     0\n",
              "818     1\n",
              "895     1\n",
              "786     0\n",
              "403     0\n",
              "490     0\n",
              "173     0\n",
              "565     0\n",
              "9       0\n",
              "38      0\n",
              "980     1\n",
              "841     0\n",
              "1116    0\n",
              "505     0\n",
              "686     1\n",
              "51      0\n",
              "568     0\n",
              "976     0\n",
              "       ..\n",
              "1217    0\n",
              "1234    0\n",
              "785     1\n",
              "620     0\n",
              "1041    0\n",
              "536     1\n",
              "691     0\n",
              "1016    0\n",
              "193     1\n",
              "1036    1\n",
              "1107    0\n",
              "44      1\n",
              "839     0\n",
              "556     0\n",
              "550     1\n",
              "1141    0\n",
              "659     1\n",
              "752     0\n",
              "506     0\n",
              "410     0\n",
              "189     0\n",
              "795     0\n",
              "459     0\n",
              "268     0\n",
              "1063    0\n",
              "473     0\n",
              "608     0\n",
              "1044    1\n",
              "1143    0\n",
              "673     0\n",
              "Name: survived, Length: 262, dtype: int64"
            ]
          },
          "metadata": {
            "tags": []
          },
          "execution_count": 47
        }
      ]
    },
    {
      "cell_type": "code",
      "metadata": {
        "id": "GfIe53w8KywI",
        "colab_type": "code",
        "outputId": "46e700b6-ef11-4ff4-ebcd-6bffca8c627b",
        "colab": {
          "base_uri": "https://localhost:8080/",
          "height": 918
        }
      },
      "source": [
        "y_predict"
      ],
      "execution_count": 0,
      "outputs": [
        {
          "output_type": "execute_result",
          "data": {
            "text/plain": [
              "array([ 0.26398999,  0.21328019,  0.68131451,  0.88766424,  0.26585958,\n",
              "        0.46787895,  0.60547301,  0.20592034,  0.48665499,  0.44249591,\n",
              "        0.47678377,  0.22151487,  0.31737851,  0.32367789,  0.46333662,\n",
              "        0.3089582 ,  0.49401484,  0.24378004,  0.64595217,  0.47929514,\n",
              "        0.36259806,  0.58339347,  0.27215896,  0.31631805,  0.22151487,\n",
              "        0.31001866,  0.27951881,  0.64227224,  0.52713415,  0.22151487,\n",
              "        0.63143053,  0.16176126,  0.1838408 ,  0.44249591,  0.15240246,\n",
              "        0.1838408 ,  0.22151487,  0.45973265,  0.39916266,  0.26479912,\n",
              "        0.22151487,  0.22151487,  0.76131369,  0.22151487,  0.30159835,\n",
              "        0.40569667,  0.16176126,  0.45315925,  0.18695866,  0.28687866,\n",
              "        0.0734431 ,  0.27951881,  0.44985576,  0.27215896,  0.70851087,\n",
              "        0.07269968,  0.18695866,  0.22151487,  0.21552322,  0.22799988,\n",
              "        0.07269968,  0.18695866,  0.41529955,  0.48995849,  0.71811374,\n",
              "        0.60547301,  0.09552264,  0.76738964,  0.67171163,  0.50873453,\n",
              "        0.70303731,  0.2492703 , -0.10319323,  0.06096643,  0.55027416,\n",
              "        0.31459311,  0.22151487,  0.35866381,  0.24378004,  0.29423851,\n",
              "        0.25007942,  0.26479912,  0.25743927,  0.42653738,  0.84799122,\n",
              "        0.22151487,  0.68877001,  0.52451469,  0.22151487,  0.48995849,\n",
              "        0.20592034,  0.22151487,  0.34988676,  0.28176184,  0.35742497,\n",
              "        0.56661686,  0.38892903,  0.38692063,  0.55395408,  0.66522662,\n",
              "        0.40445784,  0.25007942,  0.68643132,  0.27215896,  0.3089582 ,\n",
              "        0.4719353 ,  0.63715543,  0.17648095,  0.39833683,  0.25743927,\n",
              "        0.24496261,  0.62755255,  0.39833683,  0.61428944,  0.32367789,\n",
              "        0.22151487,  0.41529955,  0.20698081,  0.77968794,  0.12496202,\n",
              "        0.22151487,  0.3089582 ,  0.31459311,  0.18096701,  0.593092  ,\n",
              "        0.31459311,  0.07269968,  0.47299576,  0.25456548,  0.25743927,\n",
              "        0.22151487,  0.31962154, -0.00751522,  0.22151487,  0.22064004,\n",
              "        0.22151487,  0.49401484,  0.22151487,  0.63067041,  0.6201927 ,\n",
              "        0.45827607,  0.47348754,  0.27951881,  0.48771546,  0.22064004,\n",
              "        0.35230816,  0.3089582 ,  0.53923438,  0.41754258,  0.70115102,\n",
              "        0.20574197,  0.13232187,  0.64227224,  0.44804243,  0.51939787,\n",
              "        0.18695866,  0.51203803,  0.46439708,  0.45827607,  0.22151487,\n",
              "        0.23167981,  0.27215896,  0.66522662,  0.53411757,  0.30159835,\n",
              "        0.10656241,  0.69379117,  0.66435178,  0.11024233,  0.66522662,\n",
              "        0.27215896,  0.18695866,  0.68052806,  0.2596823 ,  0.3388273 ,\n",
              "        0.66522662,  0.49401484,  0.35417775,  0.12496202,  0.17648095,\n",
              "        0.36460645,  0.29423851,  0.16176126,  0.47929514,  0.34914932,\n",
              "        0.3089582 ,  0.53923438,  0.30159835,  0.54553377,  0.63482968,\n",
              "        0.22151487,  0.26479912,  0.28687866,  0.22151487,  0.24271958,\n",
              "        0.24505826,  0.66522662,  0.18695866,  0.48153817,  0.25007942,\n",
              "        0.55271525,  0.22151487,  0.89726712,  0.51697648,  0.27951881,\n",
              "        0.22151487,  0.38343877,  0.29423851,  0.17754142,  0.22151487,\n",
              "        0.27951881,  0.22151487,  0.22151487,  0.22151487,  0.29423851,\n",
              "        0.36460645,  0.20816337,  0.72547359,  0.46457545,  0.27951881,\n",
              "        0.43001925,  0.25743927,  0.26479912,  0.48665499,  0.53963051,\n",
              "        0.25849973,  0.27951881,  0.74962279,  0.22151487,  0.45625079,\n",
              "        0.68643132,  0.44985576,  0.30159835,  0.25743927,  0.24496261,\n",
              "        0.20592034,  0.22151487,  0.42777622,  0.1838408 ,  0.22151487,\n",
              "        0.83856671,  0.34914932,  0.28687866,  0.58339347,  0.30159835,\n",
              "        0.46457545,  0.60899426,  0.29342938,  0.39934103,  0.19568671,\n",
              "        0.14810203,  0.44337074,  0.67171163,  0.22151487,  0.31962154,\n",
              "        0.67395466,  0.13968172,  0.44337074,  0.22064004,  0.22151487,\n",
              "        0.31550892,  0.29423851])"
            ]
          },
          "metadata": {
            "tags": []
          },
          "execution_count": 48
        }
      ]
    },
    {
      "cell_type": "code",
      "metadata": {
        "id": "gm_rN5vwK0Ko",
        "colab_type": "code",
        "outputId": "f7105024-8273-479c-d31e-0f0693d094b2",
        "colab": {
          "base_uri": "https://localhost:8080/",
          "height": 34
        }
      },
      "source": [
        "#to find accuracy\n",
        "r2_score(y_test,y_predict)"
      ],
      "execution_count": 0,
      "outputs": [
        {
          "output_type": "execute_result",
          "data": {
            "text/plain": [
              "0.11275028716496927"
            ]
          },
          "metadata": {
            "tags": []
          },
          "execution_count": 49
        }
      ]
    },
    {
      "cell_type": "code",
      "metadata": {
        "id": "4QUf6GgTK_ak",
        "colab_type": "code",
        "colab": {}
      },
      "source": [
        ""
      ],
      "execution_count": 0,
      "outputs": []
    },
    {
      "cell_type": "code",
      "metadata": {
        "id": "n2nMEgbGKkgE",
        "colab_type": "code",
        "colab": {}
      },
      "source": [
        ""
      ],
      "execution_count": 0,
      "outputs": []
    },
    {
      "cell_type": "code",
      "metadata": {
        "id": "ssh8tz0nHqEe",
        "colab_type": "code",
        "colab": {}
      },
      "source": [
        ""
      ],
      "execution_count": 0,
      "outputs": []
    }
  ]
}