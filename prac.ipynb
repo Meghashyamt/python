{
  "nbformat": 4,
  "nbformat_minor": 0,
  "metadata": {
    "colab": {
      "name": "Untitled2.ipynb",
      "version": "0.3.2",
      "provenance": [],
      "include_colab_link": true
    },
    "kernelspec": {
      "name": "python3",
      "display_name": "Python 3"
    }
  },
  "cells": [
    {
      "cell_type": "markdown",
      "metadata": {
        "id": "view-in-github",
        "colab_type": "text"
      },
      "source": [
        "<a href=\"https://colab.research.google.com/github/Meghashyamt/python/blob/master/prac.ipynb\" target=\"_parent\"><img src=\"https://colab.research.google.com/assets/colab-badge.svg\" alt=\"Open In Colab\"/></a>"
      ]
    },
    {
      "metadata": {
        "id": "zkDoiiVlNpgd",
        "colab_type": "code",
        "outputId": "c5de50bc-a5b3-4387-b11e-5af17f029ad4",
        "colab": {
          "base_uri": "https://localhost:8080/",
          "height": 34
        }
      },
      "cell_type": "code",
      "source": [
        "import numpy as np\n",
        "import pandas as pd\n",
        "\n",
        "x = np.array([1,2,3])\n",
        "x"
      ],
      "execution_count": 2,
      "outputs": [
        {
          "output_type": "execute_result",
          "data": {
            "text/plain": [
              "array([1, 2, 3])"
            ]
          },
          "metadata": {
            "tags": []
          },
          "execution_count": 2
        }
      ]
    },
    {
      "metadata": {
        "id": "1tzUVNU_PRvP",
        "colab_type": "code",
        "outputId": "8348d9e9-4c5b-4ab6-d038-b2852d2d9df7",
        "colab": {
          "base_uri": "https://localhost:8080/",
          "height": 34
        }
      },
      "cell_type": "code",
      "source": [
        "l=[1,2,3,4,5]\n",
        "np.array(l)"
      ],
      "execution_count": 3,
      "outputs": [
        {
          "output_type": "execute_result",
          "data": {
            "text/plain": [
              "array([1, 2, 3, 4, 5])"
            ]
          },
          "metadata": {
            "tags": []
          },
          "execution_count": 3
        }
      ]
    },
    {
      "metadata": {
        "id": "FArxSj-wPicX",
        "colab_type": "code",
        "outputId": "a48dd22f-070e-48b8-cfd1-1d50dc3e5b65",
        "colab": {
          "base_uri": "https://localhost:8080/",
          "height": 68
        }
      },
      "cell_type": "code",
      "source": [
        "np.array([[1,2,3],[4,5,6],[7,8,9]])"
      ],
      "execution_count": 4,
      "outputs": [
        {
          "output_type": "execute_result",
          "data": {
            "text/plain": [
              "array([[1, 2, 3],\n",
              "       [4, 5, 6],\n",
              "       [7, 8, 9]])"
            ]
          },
          "metadata": {
            "tags": []
          },
          "execution_count": 4
        }
      ]
    },
    {
      "metadata": {
        "id": "IbKJ4cvNQCrY",
        "colab_type": "code",
        "outputId": "5b3e9204-fa61-4826-a5c6-a95230bc4714",
        "colab": {
          "base_uri": "https://localhost:8080/",
          "height": 34
        }
      },
      "cell_type": "code",
      "source": [
        "np.arange(0,10,2 )"
      ],
      "execution_count": 5,
      "outputs": [
        {
          "output_type": "execute_result",
          "data": {
            "text/plain": [
              "array([0, 2, 4, 6, 8])"
            ]
          },
          "metadata": {
            "tags": []
          },
          "execution_count": 5
        }
      ]
    },
    {
      "metadata": {
        "id": "6XohijfNQTPb",
        "colab_type": "code",
        "outputId": "97122b59-9fbb-4b0d-eb73-2efd54b0dbd6",
        "colab": {
          "base_uri": "https://localhost:8080/",
          "height": 102
        }
      },
      "cell_type": "code",
      "source": [
        "np.linspace(0,100,20)"
      ],
      "execution_count": 6,
      "outputs": [
        {
          "output_type": "execute_result",
          "data": {
            "text/plain": [
              "array([  0.        ,   5.26315789,  10.52631579,  15.78947368,\n",
              "        21.05263158,  26.31578947,  31.57894737,  36.84210526,\n",
              "        42.10526316,  47.36842105,  52.63157895,  57.89473684,\n",
              "        63.15789474,  68.42105263,  73.68421053,  78.94736842,\n",
              "        84.21052632,  89.47368421,  94.73684211, 100.        ])"
            ]
          },
          "metadata": {
            "tags": []
          },
          "execution_count": 6
        }
      ]
    },
    {
      "metadata": {
        "id": "Fy4GVFBoQp7o",
        "colab_type": "code",
        "outputId": "cb24f24b-954e-42a3-877a-071486070138",
        "colab": {
          "base_uri": "https://localhost:8080/",
          "height": 102
        }
      },
      "cell_type": "code",
      "source": [
        "np.zeros((5,3))"
      ],
      "execution_count": 7,
      "outputs": [
        {
          "output_type": "execute_result",
          "data": {
            "text/plain": [
              "array([[0., 0., 0.],\n",
              "       [0., 0., 0.],\n",
              "       [0., 0., 0.],\n",
              "       [0., 0., 0.],\n",
              "       [0., 0., 0.]])"
            ]
          },
          "metadata": {
            "tags": []
          },
          "execution_count": 7
        }
      ]
    },
    {
      "metadata": {
        "id": "-9UCaTsmRFow",
        "colab_type": "code",
        "outputId": "bd6e3b7d-556b-48c9-cf9e-380098108e4c",
        "colab": {
          "base_uri": "https://localhost:8080/",
          "height": 51
        }
      },
      "cell_type": "code",
      "source": [
        "np. ones((2,4))"
      ],
      "execution_count": 8,
      "outputs": [
        {
          "output_type": "execute_result",
          "data": {
            "text/plain": [
              "array([[1., 1., 1., 1.],\n",
              "       [1., 1., 1., 1.]])"
            ]
          },
          "metadata": {
            "tags": []
          },
          "execution_count": 8
        }
      ]
    },
    {
      "metadata": {
        "id": "hUYvmnUDRgxk",
        "colab_type": "code",
        "outputId": "b8f7ed62-f1f8-4507-e930-f31af46c6da2",
        "colab": {
          "base_uri": "https://localhost:8080/",
          "height": 85
        }
      },
      "cell_type": "code",
      "source": [
        "np.eye(4)"
      ],
      "execution_count": 9,
      "outputs": [
        {
          "output_type": "execute_result",
          "data": {
            "text/plain": [
              "array([[1., 0., 0., 0.],\n",
              "       [0., 1., 0., 0.],\n",
              "       [0., 0., 1., 0.],\n",
              "       [0., 0., 0., 1.]])"
            ]
          },
          "metadata": {
            "tags": []
          },
          "execution_count": 9
        }
      ]
    },
    {
      "metadata": {
        "id": "Yx5sf-_ERjER",
        "colab_type": "code",
        "colab": {}
      },
      "cell_type": "code",
      "source": [
        "\n",
        "#rand -- Uniform distribution(0,1)\n",
        "#randn --- normwl distribution  (-1,1)\n",
        "#randint"
      ],
      "execution_count": 0,
      "outputs": []
    },
    {
      "metadata": {
        "id": "ucWHzG2BTJU2",
        "colab_type": "code",
        "colab": {}
      },
      "cell_type": "code",
      "source": [
        "np.random.seed(101)"
      ],
      "execution_count": 0,
      "outputs": []
    },
    {
      "metadata": {
        "id": "OxFF7zdESHeh",
        "colab_type": "code",
        "outputId": "de0e7cc5-427a-4516-be10-6da893e47545",
        "colab": {
          "base_uri": "https://localhost:8080/",
          "height": 34
        }
      },
      "cell_type": "code",
      "source": [
        "np.random.rand(4)"
      ],
      "execution_count": 12,
      "outputs": [
        {
          "output_type": "execute_result",
          "data": {
            "text/plain": [
              "array([0.51639863, 0.57066759, 0.02847423, 0.17152166])"
            ]
          },
          "metadata": {
            "tags": []
          },
          "execution_count": 12
        }
      ]
    },
    {
      "metadata": {
        "id": "VHJNlCDZSIOm",
        "colab_type": "code",
        "outputId": "6bb33496-fc90-47f8-e388-35ed3b377b49",
        "colab": {
          "base_uri": "https://localhost:8080/",
          "height": 85
        }
      },
      "cell_type": "code",
      "source": [
        "np.random.rand(4,3)"
      ],
      "execution_count": 13,
      "outputs": [
        {
          "output_type": "execute_result",
          "data": {
            "text/plain": [
              "array([[0.68527698, 0.83389686, 0.30696622],\n",
              "       [0.89361308, 0.72154386, 0.18993895],\n",
              "       [0.55422759, 0.35213195, 0.1818924 ],\n",
              "       [0.78560176, 0.96548322, 0.23235366]])"
            ]
          },
          "metadata": {
            "tags": []
          },
          "execution_count": 13
        }
      ]
    },
    {
      "metadata": {
        "id": "hbVUzQCASI7U",
        "colab_type": "code",
        "outputId": "b55d1fe8-a933-409c-b87b-6484c61b1654",
        "colab": {
          "base_uri": "https://localhost:8080/",
          "height": 34
        }
      },
      "cell_type": "code",
      "source": [
        "np.random.randn(4)"
      ],
      "execution_count": 14,
      "outputs": [
        {
          "output_type": "execute_result",
          "data": {
            "text/plain": [
              "array([ 0.18869531, -0.75887206, -0.93323722,  0.95505651])"
            ]
          },
          "metadata": {
            "tags": []
          },
          "execution_count": 14
        }
      ]
    },
    {
      "metadata": {
        "id": "ZAzqHRqaSJev",
        "colab_type": "code",
        "outputId": "e1acf4b1-9c69-46aa-ff5b-5b315817e0cb",
        "colab": {
          "base_uri": "https://localhost:8080/",
          "height": 34
        }
      },
      "cell_type": "code",
      "source": [
        "np.random.randint(10,50)"
      ],
      "execution_count": 15,
      "outputs": [
        {
          "output_type": "execute_result",
          "data": {
            "text/plain": [
              "22"
            ]
          },
          "metadata": {
            "tags": []
          },
          "execution_count": 15
        }
      ]
    },
    {
      "metadata": {
        "id": "_tOvl_FdS_nI",
        "colab_type": "code",
        "colab": {}
      },
      "cell_type": "code",
      "source": [
        "x=np.random.randint(10,50,10)"
      ],
      "execution_count": 0,
      "outputs": []
    },
    {
      "metadata": {
        "id": "6pXIMCN3Thaj",
        "colab_type": "code",
        "outputId": "3e4875bb-81fa-4be8-f396-5598e276ed2a",
        "colab": {
          "base_uri": "https://localhost:8080/",
          "height": 51
        }
      },
      "cell_type": "code",
      "source": [
        "x.reshape(2,5)"
      ],
      "execution_count": 17,
      "outputs": [
        {
          "output_type": "execute_result",
          "data": {
            "text/plain": [
              "array([[41, 33, 10, 19, 18],\n",
              "       [46, 29, 45, 38, 17]])"
            ]
          },
          "metadata": {
            "tags": []
          },
          "execution_count": 17
        }
      ]
    },
    {
      "metadata": {
        "id": "E0HjRJgWT2ip",
        "colab_type": "code",
        "outputId": "f3c5c4df-accd-4b1c-8c0d-53e875ea110f",
        "colab": {
          "base_uri": "https://localhost:8080/",
          "height": 102
        }
      },
      "cell_type": "code",
      "source": [
        "np.random.randint(1,100,20).reshape(5,4)"
      ],
      "execution_count": 18,
      "outputs": [
        {
          "output_type": "execute_result",
          "data": {
            "text/plain": [
              "array([[11, 53, 57, 39],\n",
              "       [74, 53, 19, 72],\n",
              "       [16, 45,  1, 13],\n",
              "       [18, 76, 80, 98],\n",
              "       [94, 25, 37, 64]])"
            ]
          },
          "metadata": {
            "tags": []
          },
          "execution_count": 18
        }
      ]
    },
    {
      "metadata": {
        "id": "LLJosXsVUkS4",
        "colab_type": "code",
        "outputId": "9b1d8f85-a638-4cb9-a7b5-332e56084b83",
        "colab": {
          "base_uri": "https://localhost:8080/",
          "height": 34
        }
      },
      "cell_type": "code",
      "source": [
        "x.argmax()"
      ],
      "execution_count": 19,
      "outputs": [
        {
          "output_type": "execute_result",
          "data": {
            "text/plain": [
              "5"
            ]
          },
          "metadata": {
            "tags": []
          },
          "execution_count": 19
        }
      ]
    },
    {
      "metadata": {
        "id": "dbmoxfV2VdYP",
        "colab_type": "code",
        "outputId": "713dafb2-8291-4e7a-d1bd-beb7eb140d89",
        "colab": {
          "base_uri": "https://localhost:8080/",
          "height": 34
        }
      },
      "cell_type": "code",
      "source": [
        "a = np.arange(0,11)\n",
        "a"
      ],
      "execution_count": 20,
      "outputs": [
        {
          "output_type": "execute_result",
          "data": {
            "text/plain": [
              "array([ 0,  1,  2,  3,  4,  5,  6,  7,  8,  9, 10])"
            ]
          },
          "metadata": {
            "tags": []
          },
          "execution_count": 20
        }
      ]
    },
    {
      "metadata": {
        "id": "39lktaXZVXyi",
        "colab_type": "code",
        "outputId": "fc0fcd83-fad4-4940-bbf0-f31dce6fd871",
        "colab": {
          "base_uri": "https://localhost:8080/",
          "height": 34
        }
      },
      "cell_type": "code",
      "source": [
        "a[:5] = 100\n",
        "a"
      ],
      "execution_count": 21,
      "outputs": [
        {
          "output_type": "execute_result",
          "data": {
            "text/plain": [
              "array([100, 100, 100, 100, 100,   5,   6,   7,   8,   9,  10])"
            ]
          },
          "metadata": {
            "tags": []
          },
          "execution_count": 21
        }
      ]
    },
    {
      "metadata": {
        "id": "nn2admE3ueEx",
        "colab_type": "code",
        "outputId": "882120f4-508f-4afd-bce4-c72cd92a592b",
        "colab": {
          "base_uri": "https://localhost:8080/",
          "height": 34
        }
      },
      "cell_type": "code",
      "source": [
        "a=np.arange(0,11)\n",
        "a"
      ],
      "execution_count": 22,
      "outputs": [
        {
          "output_type": "execute_result",
          "data": {
            "text/plain": [
              "array([ 0,  1,  2,  3,  4,  5,  6,  7,  8,  9, 10])"
            ]
          },
          "metadata": {
            "tags": []
          },
          "execution_count": 22
        }
      ]
    },
    {
      "metadata": {
        "id": "onM4eZ5juMHf",
        "colab_type": "code",
        "outputId": "7830c62b-0503-4181-e399-37c5cdcb513e",
        "colab": {
          "base_uri": "https://localhost:8080/",
          "height": 34
        }
      },
      "cell_type": "code",
      "source": [
        "b=a[:6]\n",
        "b\n"
      ],
      "execution_count": 23,
      "outputs": [
        {
          "output_type": "execute_result",
          "data": {
            "text/plain": [
              "array([0, 1, 2, 3, 4, 5])"
            ]
          },
          "metadata": {
            "tags": []
          },
          "execution_count": 23
        }
      ]
    },
    {
      "metadata": {
        "id": "G_vCh_KrveyA",
        "colab_type": "code",
        "colab": {}
      },
      "cell_type": "code",
      "source": [
        "\n",
        "\n"
      ],
      "execution_count": 0,
      "outputs": []
    },
    {
      "metadata": {
        "id": "nGA353SwvwPe",
        "colab_type": "code",
        "outputId": "24b55a55-dcc5-487c-c074-ff879154a09c",
        "colab": {
          "base_uri": "https://localhost:8080/",
          "height": 34
        }
      },
      "cell_type": "code",
      "source": [
        "b[:5] =100\n",
        "b"
      ],
      "execution_count": 24,
      "outputs": [
        {
          "output_type": "execute_result",
          "data": {
            "text/plain": [
              "array([100, 100, 100, 100, 100,   5])"
            ]
          },
          "metadata": {
            "tags": []
          },
          "execution_count": 24
        }
      ]
    },
    {
      "metadata": {
        "id": "lva10VyOwAcb",
        "colab_type": "code",
        "outputId": "e62e4ae1-ff3d-41bc-e8c4-988af5ef583d",
        "colab": {
          "base_uri": "https://localhost:8080/",
          "height": 34
        }
      },
      "cell_type": "code",
      "source": [
        "a"
      ],
      "execution_count": 25,
      "outputs": [
        {
          "output_type": "execute_result",
          "data": {
            "text/plain": [
              "array([100, 100, 100, 100, 100,   5,   6,   7,   8,   9,  10])"
            ]
          },
          "metadata": {
            "tags": []
          },
          "execution_count": 25
        }
      ]
    },
    {
      "metadata": {
        "id": "oShP61JGwCnz",
        "colab_type": "code",
        "outputId": "122b2f4f-b65b-4ded-9a59-a2712a204d97",
        "colab": {
          "base_uri": "https://localhost:8080/",
          "height": 68
        }
      },
      "cell_type": "code",
      "source": [
        "c=np.array([[1,2,3],[4,5,6],[7,8,9]])\n",
        "c"
      ],
      "execution_count": 26,
      "outputs": [
        {
          "output_type": "execute_result",
          "data": {
            "text/plain": [
              "array([[1, 2, 3],\n",
              "       [4, 5, 6],\n",
              "       [7, 8, 9]])"
            ]
          },
          "metadata": {
            "tags": []
          },
          "execution_count": 26
        }
      ]
    },
    {
      "metadata": {
        "id": "pDmZoFTVwh5I",
        "colab_type": "code",
        "outputId": "b24f844d-86ff-4158-c9fe-76a701ca9808",
        "colab": {
          "base_uri": "https://localhost:8080/",
          "height": 34
        }
      },
      "cell_type": "code",
      "source": [
        "c[1][2]"
      ],
      "execution_count": 27,
      "outputs": [
        {
          "output_type": "execute_result",
          "data": {
            "text/plain": [
              "6"
            ]
          },
          "metadata": {
            "tags": []
          },
          "execution_count": 27
        }
      ]
    },
    {
      "metadata": {
        "id": "IIK5h9HJxMlu",
        "colab_type": "code",
        "outputId": "9ee6bfd5-ac90-4ed7-ecc6-e5b748506db8",
        "colab": {
          "base_uri": "https://localhost:8080/",
          "height": 187
        }
      },
      "cell_type": "code",
      "source": [
        "d=np.arange(60).reshape(10,6)\n",
        "d"
      ],
      "execution_count": 28,
      "outputs": [
        {
          "output_type": "execute_result",
          "data": {
            "text/plain": [
              "array([[ 0,  1,  2,  3,  4,  5],\n",
              "       [ 6,  7,  8,  9, 10, 11],\n",
              "       [12, 13, 14, 15, 16, 17],\n",
              "       [18, 19, 20, 21, 22, 23],\n",
              "       [24, 25, 26, 27, 28, 29],\n",
              "       [30, 31, 32, 33, 34, 35],\n",
              "       [36, 37, 38, 39, 40, 41],\n",
              "       [42, 43, 44, 45, 46, 47],\n",
              "       [48, 49, 50, 51, 52, 53],\n",
              "       [54, 55, 56, 57, 58, 59]])"
            ]
          },
          "metadata": {
            "tags": []
          },
          "execution_count": 28
        }
      ]
    },
    {
      "metadata": {
        "id": "5vxrdW_Bwy9w",
        "colab_type": "code",
        "outputId": "52c19615-e94a-4d22-ce17-6f7fedf0d860",
        "colab": {
          "base_uri": "https://localhost:8080/",
          "height": 85
        }
      },
      "cell_type": "code",
      "source": [
        "d[1:5,2:6]"
      ],
      "execution_count": 29,
      "outputs": [
        {
          "output_type": "execute_result",
          "data": {
            "text/plain": [
              "array([[ 8,  9, 10, 11],\n",
              "       [14, 15, 16, 17],\n",
              "       [20, 21, 22, 23],\n",
              "       [26, 27, 28, 29]])"
            ]
          },
          "metadata": {
            "tags": []
          },
          "execution_count": 29
        }
      ]
    },
    {
      "metadata": {
        "id": "3WB2Tar1wtZR",
        "colab_type": "code",
        "colab": {}
      },
      "cell_type": "code",
      "source": [
        "np.random.seed(101)"
      ],
      "execution_count": 0,
      "outputs": []
    },
    {
      "metadata": {
        "id": "tYTWzoUFxJ5p",
        "colab_type": "code",
        "outputId": "0786846d-0a8c-4b0e-f960-25439bf1ddc7",
        "colab": {
          "base_uri": "https://localhost:8080/",
          "height": 136
        }
      },
      "cell_type": "code",
      "source": [
        "a=np.random.randint(0,100,49).reshape(7,7)\n",
        "a"
      ],
      "execution_count": 31,
      "outputs": [
        {
          "output_type": "execute_result",
          "data": {
            "text/plain": [
              "array([[95, 11, 81, 70, 63, 87, 75],\n",
              "       [ 9, 77, 40,  4, 63, 40, 60],\n",
              "       [92, 64,  5, 12, 93, 40, 49],\n",
              "       [83,  8, 29, 59, 34, 44, 72],\n",
              "       [19, 10, 76, 95, 87,  0, 73],\n",
              "       [ 8, 62, 36, 83, 99, 28, 63],\n",
              "       [ 7, 10, 52, 56, 38, 73, 52]])"
            ]
          },
          "metadata": {
            "tags": []
          },
          "execution_count": 31
        }
      ]
    },
    {
      "metadata": {
        "id": "ErxGdPCAxgqL",
        "colab_type": "code",
        "outputId": "489b49d7-55bd-422c-fb39-434efb4354e1",
        "colab": {
          "base_uri": "https://localhost:8080/",
          "height": 34
        }
      },
      "cell_type": "code",
      "source": [
        "a[3,4]"
      ],
      "execution_count": 32,
      "outputs": [
        {
          "output_type": "execute_result",
          "data": {
            "text/plain": [
              "34"
            ]
          },
          "metadata": {
            "tags": []
          },
          "execution_count": 32
        }
      ]
    },
    {
      "metadata": {
        "id": "BiewgNAAxluF",
        "colab_type": "code",
        "outputId": "139af3b7-f14e-4d9c-e4bb-c8afef1451b9",
        "colab": {
          "base_uri": "https://localhost:8080/",
          "height": 51
        }
      },
      "cell_type": "code",
      "source": [
        "a[1:3,0:3]"
      ],
      "execution_count": 33,
      "outputs": [
        {
          "output_type": "execute_result",
          "data": {
            "text/plain": [
              "array([[ 9, 77, 40],\n",
              "       [92, 64,  5]])"
            ]
          },
          "metadata": {
            "tags": []
          },
          "execution_count": 33
        }
      ]
    },
    {
      "metadata": {
        "id": "tpWA6IUTy7NL",
        "colab_type": "code",
        "outputId": "18cfc2a6-9d3d-4eb2-bc93-7e48cbdd0f92",
        "colab": {
          "base_uri": "https://localhost:8080/",
          "height": 34
        }
      },
      "cell_type": "code",
      "source": [
        "a[:,4]                                                                                     "
      ],
      "execution_count": 34,
      "outputs": [
        {
          "output_type": "execute_result",
          "data": {
            "text/plain": [
              "array([63, 63, 93, 34, 87, 99, 38])"
            ]
          },
          "metadata": {
            "tags": []
          },
          "execution_count": 34
        }
      ]
    },
    {
      "metadata": {
        "id": "pa5NVztqy4xO",
        "colab_type": "code",
        "outputId": "4816afae-616b-4716-b9ed-c10583964968",
        "colab": {
          "base_uri": "https://localhost:8080/",
          "height": 68
        }
      },
      "cell_type": "code",
      "source": [
        "a[[1,3,6]]"
      ],
      "execution_count": 35,
      "outputs": [
        {
          "output_type": "execute_result",
          "data": {
            "text/plain": [
              "array([[ 9, 77, 40,  4, 63, 40, 60],\n",
              "       [83,  8, 29, 59, 34, 44, 72],\n",
              "       [ 7, 10, 52, 56, 38, 73, 52]])"
            ]
          },
          "metadata": {
            "tags": []
          },
          "execution_count": 35
        }
      ]
    },
    {
      "metadata": {
        "id": "tdI9yN3MxfTe",
        "colab_type": "code",
        "outputId": "6dfca8a0-36e7-4370-d11d-817760e41af2",
        "colab": {
          "base_uri": "https://localhost:8080/",
          "height": 136
        }
      },
      "cell_type": "code",
      "source": [
        "a[:,[2,4,6]]"
      ],
      "execution_count": 36,
      "outputs": [
        {
          "output_type": "execute_result",
          "data": {
            "text/plain": [
              "array([[81, 63, 75],\n",
              "       [40, 63, 60],\n",
              "       [ 5, 93, 49],\n",
              "       [29, 34, 72],\n",
              "       [76, 87, 73],\n",
              "       [36, 99, 63],\n",
              "       [52, 38, 52]])"
            ]
          },
          "metadata": {
            "tags": []
          },
          "execution_count": 36
        }
      ]
    },
    {
      "metadata": {
        "id": "DQU7-xUrwo3z",
        "colab_type": "code",
        "outputId": "cb473d12-8dfb-4fca-cd00-b99dfb7ee660",
        "colab": {
          "base_uri": "https://localhost:8080/",
          "height": 34
        }
      },
      "cell_type": "code",
      "source": [
        "a[[1,3,6],[2,4,6]]"
      ],
      "execution_count": 37,
      "outputs": [
        {
          "output_type": "execute_result",
          "data": {
            "text/plain": [
              "array([40, 34, 52])"
            ]
          },
          "metadata": {
            "tags": []
          },
          "execution_count": 37
        }
      ]
    },
    {
      "metadata": {
        "id": "A7Aex3tUwlst",
        "colab_type": "code",
        "outputId": "06138512-607c-4316-9f0d-07d53fa0e9bb",
        "colab": {
          "base_uri": "https://localhost:8080/",
          "height": 136
        }
      },
      "cell_type": "code",
      "source": [
        "a[:,[6,1,3]]"
      ],
      "execution_count": 38,
      "outputs": [
        {
          "output_type": "execute_result",
          "data": {
            "text/plain": [
              "array([[75, 11, 70],\n",
              "       [60, 77,  4],\n",
              "       [49, 64, 12],\n",
              "       [72,  8, 59],\n",
              "       [73, 10, 95],\n",
              "       [63, 62, 83],\n",
              "       [52, 10, 56]])"
            ]
          },
          "metadata": {
            "tags": []
          },
          "execution_count": 38
        }
      ]
    },
    {
      "metadata": {
        "id": "I8rjcXZY3nmZ",
        "colab_type": "code",
        "colab": {}
      },
      "cell_type": "code",
      "source": [
        "array = np.arange(0,20)"
      ],
      "execution_count": 0,
      "outputs": []
    },
    {
      "metadata": {
        "id": "KbhjxmRv3ofO",
        "colab_type": "code",
        "colab": {}
      },
      "cell_type": "code",
      "source": [
        "bool_arr = array > 5"
      ],
      "execution_count": 0,
      "outputs": []
    },
    {
      "metadata": {
        "id": "AW7m4FEC3o6y",
        "colab_type": "code",
        "outputId": "f8d83ee1-6ed8-4d85-cf84-542b3f40bc77",
        "colab": {
          "base_uri": "https://localhost:8080/",
          "height": 68
        }
      },
      "cell_type": "code",
      "source": [
        "bool_arr"
      ],
      "execution_count": 41,
      "outputs": [
        {
          "output_type": "execute_result",
          "data": {
            "text/plain": [
              "array([False, False, False, False, False, False,  True,  True,  True,\n",
              "        True,  True,  True,  True,  True,  True,  True,  True,  True,\n",
              "        True,  True])"
            ]
          },
          "metadata": {
            "tags": []
          },
          "execution_count": 41
        }
      ]
    },
    {
      "metadata": {
        "id": "0dTCMucx3pfN",
        "colab_type": "code",
        "outputId": "f7254f05-7f22-49e6-f1f9-43407d340b2e",
        "colab": {
          "base_uri": "https://localhost:8080/",
          "height": 34
        }
      },
      "cell_type": "code",
      "source": [
        "array[bool_arr]"
      ],
      "execution_count": 42,
      "outputs": [
        {
          "output_type": "execute_result",
          "data": {
            "text/plain": [
              "array([ 6,  7,  8,  9, 10, 11, 12, 13, 14, 15, 16, 17, 18, 19])"
            ]
          },
          "metadata": {
            "tags": []
          },
          "execution_count": 42
        }
      ]
    },
    {
      "metadata": {
        "id": "-2FGhUgC3p6o",
        "colab_type": "code",
        "outputId": "3397d9e1-77f9-4ce6-8d7b-74c854ea7ab7",
        "colab": {
          "base_uri": "https://localhost:8080/",
          "height": 34
        }
      },
      "cell_type": "code",
      "source": [
        "array[11:]"
      ],
      "execution_count": 43,
      "outputs": [
        {
          "output_type": "execute_result",
          "data": {
            "text/plain": [
              "array([11, 12, 13, 14, 15, 16, 17, 18, 19])"
            ]
          },
          "metadata": {
            "tags": []
          },
          "execution_count": 43
        }
      ]
    },
    {
      "metadata": {
        "id": "sotUYgHm3qTt",
        "colab_type": "code",
        "outputId": "9ca76ba1-d672-4933-f790-6801ef0b29b7",
        "colab": {
          "base_uri": "https://localhost:8080/",
          "height": 34
        }
      },
      "cell_type": "code",
      "source": [
        "array[array>=11]"
      ],
      "execution_count": 44,
      "outputs": [
        {
          "output_type": "execute_result",
          "data": {
            "text/plain": [
              "array([11, 12, 13, 14, 15, 16, 17, 18, 19])"
            ]
          },
          "metadata": {
            "tags": []
          },
          "execution_count": 44
        }
      ]
    },
    {
      "metadata": {
        "id": "GLTUcIj13qyr",
        "colab_type": "code",
        "outputId": "45ddc470-2eaa-41d8-e2f3-49255c7f5dbe",
        "colab": {
          "base_uri": "https://localhost:8080/",
          "height": 187
        }
      },
      "cell_type": "code",
      "source": [
        "d"
      ],
      "execution_count": 45,
      "outputs": [
        {
          "output_type": "execute_result",
          "data": {
            "text/plain": [
              "array([[ 0,  1,  2,  3,  4,  5],\n",
              "       [ 6,  7,  8,  9, 10, 11],\n",
              "       [12, 13, 14, 15, 16, 17],\n",
              "       [18, 19, 20, 21, 22, 23],\n",
              "       [24, 25, 26, 27, 28, 29],\n",
              "       [30, 31, 32, 33, 34, 35],\n",
              "       [36, 37, 38, 39, 40, 41],\n",
              "       [42, 43, 44, 45, 46, 47],\n",
              "       [48, 49, 50, 51, 52, 53],\n",
              "       [54, 55, 56, 57, 58, 59]])"
            ]
          },
          "metadata": {
            "tags": []
          },
          "execution_count": 45
        }
      ]
    },
    {
      "metadata": {
        "id": "OQy8uaP25Jmo",
        "colab_type": "code",
        "outputId": "a104a5a1-86d7-4c38-a508-689515b09d47",
        "colab": {
          "base_uri": "https://localhost:8080/",
          "height": 136
        }
      },
      "cell_type": "code",
      "source": [
        "a*a\n"
      ],
      "execution_count": 46,
      "outputs": [
        {
          "output_type": "execute_result",
          "data": {
            "text/plain": [
              "array([[9025,  121, 6561, 4900, 3969, 7569, 5625],\n",
              "       [  81, 5929, 1600,   16, 3969, 1600, 3600],\n",
              "       [8464, 4096,   25,  144, 8649, 1600, 2401],\n",
              "       [6889,   64,  841, 3481, 1156, 1936, 5184],\n",
              "       [ 361,  100, 5776, 9025, 7569,    0, 5329],\n",
              "       [  64, 3844, 1296, 6889, 9801,  784, 3969],\n",
              "       [  49,  100, 2704, 3136, 1444, 5329, 2704]])"
            ]
          },
          "metadata": {
            "tags": []
          },
          "execution_count": 46
        }
      ]
    },
    {
      "metadata": {
        "id": "9Is19G_05l3O",
        "colab_type": "code",
        "outputId": "c15bd3e9-39f1-4b3a-d8b8-6c5d7a208f02",
        "colab": {
          "base_uri": "https://localhost:8080/",
          "height": 374
        }
      },
      "cell_type": "code",
      "source": [
        "a**a"
      ],
      "execution_count": 47,
      "outputs": [
        {
          "output_type": "execute_result",
          "data": {
            "text/plain": [
              "array([[-3660930864499998817,         285311670611, -3264474685660004015,\n",
              "                           0, -4675932718989443137,  1826852818786091687,\n",
              "         2435553365352800019],\n",
              "       [           387420489,  5169532022520488509,                    0,\n",
              "                         256, -4675932718989443137,                    0,\n",
              "                           0],\n",
              "       [                   0,                    0,                 3125,\n",
              "               8916100448256, -7924192819420782515,                    0,\n",
              "        -2559158286230232783],\n",
              "       [ 2536461848307888459,             16777216,  5529354540715494413,\n",
              "         -145357957422043229, -5296008294479953920,                    0,\n",
              "                           0],\n",
              "       [ 6353754964178307979,          10000000000,                    0,\n",
              "        -3660930864499998817,  1826852818786091687,                    1,\n",
              "        -3116162374727926391],\n",
              "       [            16777216,  4611686018427387904,                    0,\n",
              "         2536461848307888459, -7394533151961528133, -6845471433603153920,\n",
              "        -4675932718989443137],\n",
              "       [              823543,          10000000000,                    0,\n",
              "                           0,  6543552412563537920, -3116162374727926391,\n",
              "                           0]])"
            ]
          },
          "metadata": {
            "tags": []
          },
          "execution_count": 47
        }
      ]
    },
    {
      "metadata": {
        "id": "oJPla1oT5od_",
        "colab_type": "code",
        "outputId": "54b1b80d-a238-4a51-b502-b96991c0959e",
        "colab": {
          "base_uri": "https://localhost:8080/",
          "height": 136
        }
      },
      "cell_type": "code",
      "source": [
        "a"
      ],
      "execution_count": 48,
      "outputs": [
        {
          "output_type": "execute_result",
          "data": {
            "text/plain": [
              "array([[95, 11, 81, 70, 63, 87, 75],\n",
              "       [ 9, 77, 40,  4, 63, 40, 60],\n",
              "       [92, 64,  5, 12, 93, 40, 49],\n",
              "       [83,  8, 29, 59, 34, 44, 72],\n",
              "       [19, 10, 76, 95, 87,  0, 73],\n",
              "       [ 8, 62, 36, 83, 99, 28, 63],\n",
              "       [ 7, 10, 52, 56, 38, 73, 52]])"
            ]
          },
          "metadata": {
            "tags": []
          },
          "execution_count": 48
        }
      ]
    },
    {
      "metadata": {
        "id": "j1Mq_t7Q5pEv",
        "colab_type": "code",
        "outputId": "af60d4be-b912-473f-9130-947ac9286db6",
        "colab": {
          "base_uri": "https://localhost:8080/",
          "height": 255
        }
      },
      "cell_type": "code",
      "source": [
        "np.sin(a)"
      ],
      "execution_count": 49,
      "outputs": [
        {
          "output_type": "execute_result",
          "data": {
            "text/plain": [
              "array([[ 0.68326171, -0.99999021, -0.62988799,  0.77389068,  0.1673557 ,\n",
              "        -0.82181784, -0.38778164],\n",
              "       [ 0.41211849,  0.99952016,  0.74511316, -0.7568025 ,  0.1673557 ,\n",
              "         0.74511316, -0.30481062],\n",
              "       [-0.77946607,  0.92002604, -0.95892427, -0.53657292, -0.94828214,\n",
              "         0.74511316, -0.95375265],\n",
              "       [ 0.96836446,  0.98935825, -0.66363388,  0.63673801,  0.52908269,\n",
              "         0.01770193,  0.25382336],\n",
              "       [ 0.14987721, -0.54402111,  0.56610764,  0.68326171, -0.82181784,\n",
              "         0.        , -0.67677196],\n",
              "       [ 0.98935825, -0.7391807 , -0.99177885,  0.96836446, -0.99920683,\n",
              "         0.27090579,  0.1673557 ],\n",
              "       [ 0.6569866 , -0.54402111,  0.98662759, -0.521551  ,  0.29636858,\n",
              "        -0.67677196,  0.98662759]])"
            ]
          },
          "metadata": {
            "tags": []
          },
          "execution_count": 49
        }
      ]
    },
    {
      "metadata": {
        "id": "czYTpvCI5phK",
        "colab_type": "code",
        "outputId": "32783187-65c9-4e70-d0f4-0fb18499871d",
        "colab": {
          "base_uri": "https://localhost:8080/",
          "height": 289
        }
      },
      "cell_type": "code",
      "source": [
        "np.log(a)"
      ],
      "execution_count": 50,
      "outputs": [
        {
          "output_type": "stream",
          "text": [
            "/usr/local/lib/python3.6/dist-packages/ipykernel_launcher.py:1: RuntimeWarning: divide by zero encountered in log\n",
            "  \"\"\"Entry point for launching an IPython kernel.\n"
          ],
          "name": "stderr"
        },
        {
          "output_type": "execute_result",
          "data": {
            "text/plain": [
              "array([[4.55387689, 2.39789527, 4.39444915, 4.24849524, 4.14313473,\n",
              "        4.46590812, 4.31748811],\n",
              "       [2.19722458, 4.34380542, 3.68887945, 1.38629436, 4.14313473,\n",
              "        3.68887945, 4.09434456],\n",
              "       [4.52178858, 4.15888308, 1.60943791, 2.48490665, 4.53259949,\n",
              "        3.68887945, 3.8918203 ],\n",
              "       [4.41884061, 2.07944154, 3.36729583, 4.07753744, 3.52636052,\n",
              "        3.78418963, 4.27666612],\n",
              "       [2.94443898, 2.30258509, 4.33073334, 4.55387689, 4.46590812,\n",
              "              -inf, 4.29045944],\n",
              "       [2.07944154, 4.12713439, 3.58351894, 4.41884061, 4.59511985,\n",
              "        3.33220451, 4.14313473],\n",
              "       [1.94591015, 2.30258509, 3.95124372, 4.02535169, 3.63758616,\n",
              "        4.29045944, 3.95124372]])"
            ]
          },
          "metadata": {
            "tags": []
          },
          "execution_count": 50
        }
      ]
    },
    {
      "metadata": {
        "id": "47hbQpnp5p96",
        "colab_type": "code",
        "colab": {}
      },
      "cell_type": "code",
      "source": [
        ""
      ],
      "execution_count": 0,
      "outputs": []
    },
    {
      "metadata": {
        "id": "_ZDp9YGT5qny",
        "colab_type": "code",
        "outputId": "511c371d-77a1-45bf-f9e0-66899b5187c5",
        "colab": {
          "base_uri": "https://localhost:8080/",
          "height": 119
        }
      },
      "cell_type": "code",
      "source": [
        "pd.Series(data = (1,2,3,4,5))"
      ],
      "execution_count": 51,
      "outputs": [
        {
          "output_type": "execute_result",
          "data": {
            "text/plain": [
              "0    1\n",
              "1    2\n",
              "2    3\n",
              "3    4\n",
              "4    5\n",
              "dtype: int64"
            ]
          },
          "metadata": {
            "tags": []
          },
          "execution_count": 51
        }
      ]
    },
    {
      "metadata": {
        "id": "0ZvRSXNs8PyP",
        "colab_type": "code",
        "colab": {}
      },
      "cell_type": "code",
      "source": [
        "d={'a':1,'b':2,'c':3}"
      ],
      "execution_count": 0,
      "outputs": []
    },
    {
      "metadata": {
        "id": "d0r9G3Ip84j2",
        "colab_type": "code",
        "outputId": "2c841398-57f5-4b4d-ba09-75d91821f065",
        "colab": {
          "base_uri": "https://localhost:8080/",
          "height": 85
        }
      },
      "cell_type": "code",
      "source": [
        "pd.Series(data=d)"
      ],
      "execution_count": 53,
      "outputs": [
        {
          "output_type": "execute_result",
          "data": {
            "text/plain": [
              "a    1\n",
              "b    2\n",
              "c    3\n",
              "dtype: int64"
            ]
          },
          "metadata": {
            "tags": []
          },
          "execution_count": 53
        }
      ]
    },
    {
      "metadata": {
        "id": "S7FCzavH9BVQ",
        "colab_type": "code",
        "outputId": "b9f82c8b-c521-48d6-b6c8-abc022efa33a",
        "colab": {
          "base_uri": "https://localhost:8080/",
          "height": 102
        }
      },
      "cell_type": "code",
      "source": [
        "l=[1,2,3,4]\n",
        "pd.Series(data=l, index= 'a b c d'.split())"
      ],
      "execution_count": 54,
      "outputs": [
        {
          "output_type": "execute_result",
          "data": {
            "text/plain": [
              "a    1\n",
              "b    2\n",
              "c    3\n",
              "d    4\n",
              "dtype: int64"
            ]
          },
          "metadata": {
            "tags": []
          },
          "execution_count": 54
        }
      ]
    },
    {
      "metadata": {
        "id": "0CLqn6Dy9pWX",
        "colab_type": "code",
        "outputId": "d861dead-32e6-4c8c-ee7a-b1c269f1fd23",
        "colab": {
          "base_uri": "https://localhost:8080/",
          "height": 85
        }
      },
      "cell_type": "code",
      "source": [
        "count1 = pd.Series([1,2],['USA','INDIA'])\n",
        "count2 = pd.Series([1,2],['USA','japan'])\n",
        "print(count1/count2)"
      ],
      "execution_count": 55,
      "outputs": [
        {
          "output_type": "stream",
          "text": [
            "INDIA    NaN\n",
            "USA      1.0\n",
            "japan    NaN\n",
            "dtype: float64\n"
          ],
          "name": "stdout"
        }
      ]
    },
    {
      "metadata": {
        "id": "WOHPRdhl9nC0",
        "colab_type": "code",
        "outputId": "c9cfc303-5684-4ecf-d5e1-8e38933d4b29",
        "colab": {
          "base_uri": "https://localhost:8080/",
          "height": 129
        }
      },
      "cell_type": "code",
      "source": [
        "np.(10)"
      ],
      "execution_count": 56,
      "outputs": [
        {
          "output_type": "error",
          "ename": "SyntaxError",
          "evalue": "ignored",
          "traceback": [
            "\u001b[0;36m  File \u001b[0;32m\"<ipython-input-56-2f9b5461d689>\"\u001b[0;36m, line \u001b[0;32m1\u001b[0m\n\u001b[0;31m    np.(10)\u001b[0m\n\u001b[0m       ^\u001b[0m\n\u001b[0;31mSyntaxError\u001b[0m\u001b[0;31m:\u001b[0m invalid syntax\n"
          ]
        }
      ]
    },
    {
      "metadata": {
        "id": "LYauSM8-9e99",
        "colab_type": "code",
        "colab": {}
      },
      "cell_type": "code",
      "source": [
        "np.arange(10,51)"
      ],
      "execution_count": 0,
      "outputs": []
    },
    {
      "metadata": {
        "id": "BwZa73KREHHL",
        "colab_type": "code",
        "colab": {}
      },
      "cell_type": "code",
      "source": [
        "np.arange(10,51,2)"
      ],
      "execution_count": 0,
      "outputs": []
    },
    {
      "metadata": {
        "id": "udGrBRdLEMCt",
        "colab_type": "code",
        "colab": {}
      },
      "cell_type": "code",
      "source": [
        "np.ones(10)*5"
      ],
      "execution_count": 0,
      "outputs": []
    },
    {
      "metadata": {
        "id": "SbiVw3Jq9avf",
        "colab_type": "code",
        "colab": {}
      },
      "cell_type": "code",
      "source": [
        "np.arange(0,9).reshape(3,3)"
      ],
      "execution_count": 0,
      "outputs": []
    },
    {
      "metadata": {
        "id": "oSXHr3K79YKg",
        "colab_type": "code",
        "colab": {}
      },
      "cell_type": "code",
      "source": [
        "x= np.eye(3,3)\n",
        "x"
      ],
      "execution_count": 0,
      "outputs": []
    },
    {
      "metadata": {
        "id": "JLjV47pQ9S9g",
        "colab_type": "code",
        "colab": {}
      },
      "cell_type": "code",
      "source": [
        "np.random.rand(1)"
      ],
      "execution_count": 0,
      "outputs": []
    },
    {
      "metadata": {
        "id": "hSkM8VaZ9Joy",
        "colab_type": "code",
        "colab": {}
      },
      "cell_type": "code",
      "source": [
        "np.random.randn(25).reshape(5,5)"
      ],
      "execution_count": 0,
      "outputs": []
    },
    {
      "metadata": {
        "id": "vcZcXrYvHXKZ",
        "colab_type": "code",
        "colab": {}
      },
      "cell_type": "code",
      "source": [
        "np.linspace(0,1,20)"
      ],
      "execution_count": 0,
      "outputs": []
    },
    {
      "metadata": {
        "id": "e4BjNEZzHPGn",
        "colab_type": "code",
        "colab": {}
      },
      "cell_type": "code",
      "source": [
        "np.linspace(0.1,1)"
      ],
      "execution_count": 0,
      "outputs": []
    },
    {
      "metadata": {
        "id": "BOrc9qneKYhe",
        "colab_type": "code",
        "colab": {}
      },
      "cell_type": "code",
      "source": [
        "np.arange(1,101).reshape(10,10) / 100"
      ],
      "execution_count": 0,
      "outputs": []
    },
    {
      "metadata": {
        "id": "ggnWF4oxKaUj",
        "colab_type": "code",
        "colab": {}
      },
      "cell_type": "code",
      "source": [
        "mat = np.arange(1,26).reshape(5,5)\n",
        "mat"
      ],
      "execution_count": 0,
      "outputs": []
    },
    {
      "metadata": {
        "id": "fau0vcfWK9M1",
        "colab_type": "code",
        "colab": {}
      },
      "cell_type": "code",
      "source": [
        "mat[2:5,1:5]"
      ],
      "execution_count": 0,
      "outputs": []
    },
    {
      "metadata": {
        "id": "8I-VJTiNLYUk",
        "colab_type": "code",
        "colab": {}
      },
      "cell_type": "code",
      "source": [
        "mat[3,4]"
      ],
      "execution_count": 0,
      "outputs": []
    },
    {
      "metadata": {
        "id": "TT1muM6bLdnQ",
        "colab_type": "code",
        "colab": {}
      },
      "cell_type": "code",
      "source": [
        "mat[0:3:,1]"
      ],
      "execution_count": 0,
      "outputs": []
    },
    {
      "metadata": {
        "id": "Rb6igh1pLzKV",
        "colab_type": "code",
        "colab": {}
      },
      "cell_type": "code",
      "source": [
        "mat[4,:]"
      ],
      "execution_count": 0,
      "outputs": []
    },
    {
      "metadata": {
        "id": "nEeY60hiL8NJ",
        "colab_type": "code",
        "colab": {}
      },
      "cell_type": "code",
      "source": [
        "mat[3:5,:]"
      ],
      "execution_count": 0,
      "outputs": []
    },
    {
      "metadata": {
        "id": "kjOU4N4uMJp_",
        "colab_type": "code",
        "colab": {}
      },
      "cell_type": "code",
      "source": [
        "mat.sum()"
      ],
      "execution_count": 0,
      "outputs": []
    },
    {
      "metadata": {
        "id": "c_Avtxm7NTB-",
        "colab_type": "code",
        "colab": {}
      },
      "cell_type": "code",
      "source": [
        "mat.std()"
      ],
      "execution_count": 0,
      "outputs": []
    },
    {
      "metadata": {
        "id": "w5kLB15QNU_w",
        "colab_type": "code",
        "colab": {}
      },
      "cell_type": "code",
      "source": [
        "mat.sum(axis=0)"
      ],
      "execution_count": 0,
      "outputs": []
    },
    {
      "metadata": {
        "id": "ijKlOAa6NkQZ",
        "colab_type": "code",
        "colab": {}
      },
      "cell_type": "code",
      "source": [
        ""
      ],
      "execution_count": 0,
      "outputs": []
    },
    {
      "metadata": {
        "id": "y9rU5EKULr-Y",
        "colab_type": "code",
        "colab": {}
      },
      "cell_type": "code",
      "source": [
        ""
      ],
      "execution_count": 0,
      "outputs": []
    }
  ]
}